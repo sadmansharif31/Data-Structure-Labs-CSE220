{
 "cells": [
  {
   "cell_type": "code",
   "execution_count": 1,
   "metadata": {
    "colab": {
     "base_uri": "https://localhost:8080/"
    },
    "id": "CvHWU9VwU1DB",
    "outputId": "669ae662-87a8-496d-effe-41d1d7f04dbe"
   },
   "outputs": [
    {
     "name": "stdout",
     "output_type": "stream",
     "text": [
      "Requirement already satisfied: fhm-unittest in d:\\conda\\envs\\pre\\lib\\site-packages (1.0.1)\n",
      "Requirement already satisfied: fuzzywuzzy in d:\\conda\\envs\\pre\\lib\\site-packages (0.18.0)\n"
     ]
    },
    {
     "name": "stderr",
     "output_type": "stream",
     "text": [
      "D:\\Conda\\envs\\Pre\\lib\\site-packages\\fuzzywuzzy\\fuzz.py:11: UserWarning: Using slow pure-python SequenceMatcher. Install python-Levenshtein to remove this warning\n",
      "  warnings.warn('Using slow pure-python SequenceMatcher. Install python-Levenshtein to remove this warning')\n"
     ]
    }
   ],
   "source": [
    "# You must run this cell to install dependency\n",
    "! pip3 install fhm-unittest\n",
    "! pip3 install fuzzywuzzy\n",
    "import fhm_unittest as unittest\n",
    "import numpy as np"
   ]
  },
  {
   "cell_type": "markdown",
   "metadata": {
    "id": "uuc9lAd6YgTI"
   },
   "source": [
    "Run this cell first"
   ]
  },
  {
   "cell_type": "code",
   "execution_count": 2,
   "metadata": {
    "id": "BQi67-3NU3GS"
   },
   "outputs": [],
   "source": [
    "class Node:\n",
    "    def __init__(self, elem, next = None):\n",
    "        self.elem, self.next = elem, next\n",
    "\n",
    "def create_linked_list(arr):\n",
    "    head = Node(arr[0])\n",
    "    tail = head\n",
    "    for i in arr[1:]:\n",
    "        new_node = Node(i)\n",
    "        tail.next = new_node\n",
    "        tail = new_node\n",
    "    return head\n",
    "\n",
    "def count(head):\n",
    "    count = 0\n",
    "    while head != None:\n",
    "        count += 1\n",
    "        head = head.next\n",
    "    return count\n",
    "\n",
    "def print_linked_list(head):\n",
    "    while head != None:\n",
    "        print(head.elem, end = '-> ')\n",
    "        head = head.next\n",
    "    print('None')\n",
    "    print()"
   ]
  },
  {
   "cell_type": "markdown",
   "metadata": {
    "id": "34hWSyDJYn25"
   },
   "source": [
    "#TASK 1\n",
    "> You can use Dictionary, Set and membership operator (in/not in) only for this task. Membership Operator takes constant time in these unordered collections. See this [link](https://stackoverflow.com/questions/13884177/complexity-of-in-operator-in-python) for details.\n",
    "\n",
    "\n",
    "\n",
    "However,\n",
    "\n",
    "\n",
    ">  ***DO NOT USE*** Membership Operator in List, String for this task.\n",
    "\n",
    "> You can traverse the array ***ONLY ONCE*** (i.e. no nested loop).\n",
    "\n",
    "\n",
    "\n"
   ]
  },
  {
   "cell_type": "code",
   "execution_count": 3,
   "metadata": {},
   "outputs": [],
   "source": [
    "#Do by yourself\n",
    "\n",
    "def nerdy_run(path, k):\n",
    "    \n",
    "    if len(path)==0 or len(path)==1:\n",
    "        return None\n",
    "    \n",
    "    di={}\n",
    "\n",
    "    for i in range(len(path)):\n",
    "        if path[i] in di and i-di[path[i]]<=k:\n",
    "            return path[i]\n",
    "        di[path[i]]=i\n",
    "\n",
    "    return None\n"
   ]
  },
  {
   "cell_type": "code",
   "execution_count": 6,
   "metadata": {
    "colab": {
     "base_uri": "https://localhost:8080/"
    },
    "id": "eHa5uJahWA3o",
    "outputId": "42cc6e44-1c57-4dc2-be9d-d3c2b5eb1945"
   },
   "outputs": [
    {
     "name": "stdout",
     "output_type": "stream",
     "text": [
      "Accepted\n",
      "Duplicate value within range 3 is: 9\n",
      "===================================\n",
      "Accepted\n",
      "Duplicate value within range 4 is: None\n",
      "===================================\n",
      "Accepted\n",
      "Duplicate value within range 7 is: 0.21\n"
     ]
    }
   ],
   "source": [
    "def main():\n",
    "\n",
    "    path = [6,7,8,9,5,9]\n",
    "    k = 3\n",
    "    result = nerdy_run(path,k)\n",
    "    unittest.output_test(result, 9)\n",
    "    print(f'Duplicate value within range {k} is: {result}') #Duplicate value within range 3 is: 9\n",
    "\n",
    "    print('===================================')\n",
    "    path = [6,7,8,9,5,6]\n",
    "    k = 4\n",
    "    result = nerdy_run(path,k)\n",
    "    unittest.output_test(result, None)\n",
    "    print(f'Duplicate value within range {k} is: {result}') #Duplicate value within range 4 is: None\n",
    "\n",
    "    print('===================================')\n",
    "    path = [0.21,1.21,4.67,0.21,0.45,1.9]\n",
    "    k = 7\n",
    "    result = nerdy_run(path,k)\n",
    "    unittest.output_test(result, 0.21)\n",
    "    print(f'Duplicate value within range {k} is: {result}') #Duplicate value within range 7 is: 0.21\n",
    "\n",
    "\n",
    "if __name__ == \"__main__\":\n",
    "    main()"
   ]
  },
  {
   "cell_type": "markdown",
   "metadata": {
    "id": "B92R0bs3X_kI"
   },
   "source": [
    "#TASK 2\n",
    "Complete the following methods:\n",
    "\n",
    ">  __hash_function()\n",
    "\n",
    "> search_hashtable()\n",
    "\n",
    "\n",
    "\n"
   ]
  },
  {
   "cell_type": "code",
   "execution_count": 7,
   "metadata": {
    "id": "1aobPPrAVXCB"
   },
   "outputs": [],
   "source": [
    "class Hashtable:\n",
    "    \n",
    "    def __init__(self, size):\n",
    "        self.ht = [None]*size\n",
    "\n",
    "\n",
    "    def insert(self, s):\n",
    "        if self.search_hashtable(s) == 'Found':\n",
    "            print(s,'Already Inserted. Cannot reinsert.')\n",
    "            print('===============================')\n",
    "            return\n",
    "        key = self.__hash_function(s)\n",
    "        node = Node(s)\n",
    "        \n",
    "        if self.ht[key] == None:\n",
    "            self.ht[key] = node\n",
    "        else:\n",
    "            node.next = self.ht[key]\n",
    "            self.ht[key] = node\n",
    "  \n",
    "    def create_from_array(self, arr):\n",
    "        for i in arr:\n",
    "            self.insert(i)\n",
    "\n",
    "    def print_hashtable(self):\n",
    "        idx = 0\n",
    "        for i in self.ht:\n",
    "            print(idx, ':', end = ' ')\n",
    "            print_linked_list(i)\n",
    "            idx += 1\n",
    "\n",
    "\n",
    "    #Do by yourself\n",
    "    def __hash_function(self, s):\n",
    "        if len(s) % 2 != 0:\n",
    "            s += \"N\"\n",
    "        i, j = 0,1\n",
    "        total = 0\n",
    "        \n",
    "        for x in range(len(s)//2):\n",
    "            total += int(str(ord(s[i])) + str(ord(s[j])))\n",
    "            i += 2\n",
    "            j += 2\n",
    "        return total % len(self.ht)\n",
    "\n",
    "\n",
    "\n",
    "    #Do by yourself\n",
    "    def search_hashtable(self, s):\n",
    "        hash = self.__hash_function(s)\n",
    "        if self.ht[hash] == None:\n",
    "            return \"Not Found\"\n",
    "        else:\n",
    "            h = self.ht[hash]\n",
    "            while h != None:\n",
    "                if h.elem == s:\n",
    "                    return \"Found\"\n",
    "                h = h.next\n",
    "            return \"Not Found\""
   ]
  },
  {
   "cell_type": "code",
   "execution_count": 8,
   "metadata": {
    "colab": {
     "base_uri": "https://localhost:8080/"
    },
    "id": "dpDpMZSgV_XU",
    "outputId": "24f47a07-98ba-4efa-db43-3e443058a2d5"
   },
   "outputs": [
    {
     "name": "stdout",
     "output_type": "stream",
     "text": [
      "0 : None\n",
      "\n",
      "1 : Bo-> None\n",
      "\n",
      "2 : Emz-> Colt-> None\n",
      "\n",
      "3 : Shelly-> None\n",
      "\n",
      "4 : Doug-> Cordelius-> None\n",
      "\n",
      "======================\n",
      "Accepted\n",
      "Doug Found\n",
      "======================\n",
      "Doug Already Inserted. Cannot reinsert.\n",
      "===============================\n",
      "0 : None\n",
      "\n",
      "1 : Bo-> None\n",
      "\n",
      "2 : Emz-> Colt-> None\n",
      "\n",
      "3 : Shelly-> None\n",
      "\n",
      "4 : Doug-> Cordelius-> None\n",
      "\n",
      "======================\n",
      "Accepted\n",
      "Edgar Not Found\n",
      "======================\n",
      "0 : Edgar-> None\n",
      "\n",
      "1 : Bo-> None\n",
      "\n",
      "2 : Emz-> Colt-> None\n",
      "\n",
      "3 : Shelly-> None\n",
      "\n",
      "4 : Doug-> Cordelius-> None\n",
      "\n",
      "======================\n",
      "Accepted\n",
      "Edgar Found\n"
     ]
    }
   ],
   "source": [
    "arr = ['Colt', 'Cordelius', 'Shelly', 'Doug', 'Emz', 'Bo']\n",
    "ht = Hashtable(5)\n",
    "ht.create_from_array(arr)\n",
    "ht.print_hashtable()\n",
    "'''\n",
    "0 : None\n",
    "\n",
    "1 : Bo-> None\n",
    "\n",
    "2 : Emz-> Colt-> None\n",
    "\n",
    "3 : Shelly-> None\n",
    "\n",
    "4 : Doug-> Cordelius-> None\n",
    "\n",
    "'''\n",
    "\n",
    "print('======================')\n",
    "result = ht.search_hashtable('Doug')\n",
    "unittest.output_test(result, 'Found')\n",
    "print(f'Doug {result}') #This should print 'Doug Found'\n",
    "\n",
    "print('======================')\n",
    "ht.insert('Doug') #This will print 'Doug Already Inserted. Cannot reinsert.'\n",
    "ht.print_hashtable()\n",
    "'''\n",
    "0 : None\n",
    "\n",
    "1 : Bo-> None\n",
    "\n",
    "2 : Emz-> Colt-> None\n",
    "\n",
    "3 : Shelly-> None\n",
    "\n",
    "4 : Doug-> Cordelius-> None\n",
    "\n",
    "'''\n",
    "\n",
    "print('======================')\n",
    "result = ht.search_hashtable('Edgar')\n",
    "unittest.output_test(result, 'Not Found')\n",
    "print(f'Edgar {result}') #This should print 'Edgar Not Found'\n",
    "\n",
    "print('======================')\n",
    "ht.insert('Edgar')\n",
    "ht.print_hashtable()\n",
    "'''\n",
    "0 : Edgar-> None\n",
    "\n",
    "1 : Bo-> None\n",
    "\n",
    "2 : Emz-> Colt-> None\n",
    "\n",
    "3 : Shelly-> None\n",
    "\n",
    "4 : Doug-> Cordelius-> None\n",
    "\n",
    "'''\n",
    "\n",
    "print('======================')\n",
    "result = ht.search_hashtable('Edgar')\n",
    "unittest.output_test(result, 'Found')\n",
    "print(f'Edgar {result}') #This should print 'Edgar Found'"
   ]
  },
  {
   "cell_type": "markdown",
   "metadata": {
    "id": "DzykBxGicdBw"
   },
   "source": [
    "#TASK 3\n",
    "Complete the following methods:\n",
    "\n",
    "\n",
    "\n",
    "> create_layered_hashtable()\n",
    "\n",
    "> search_element()"
   ]
  },
  {
   "cell_type": "code",
   "execution_count": null,
   "metadata": {
    "id": "MkJtkO-ydCSw"
   },
   "outputs": [],
   "source": [
    "class Layered_Hashtable:\n",
    "    \n",
    "    def __init__(self, express_array_size):\n",
    "        self.express_array = [None] * express_array_size\n",
    "\n",
    "    def print_express_lane(self):\n",
    "        for i in self.express_array:\n",
    "            print(i.elem, end = ' '*10)\n",
    "        print()\n",
    "\n",
    "    def print_layered_hashtable(self):\n",
    "        print('Express Lane is:')\n",
    "        self.print_express_lane()\n",
    "\n",
    "        for i in range (len(self.express_array)-1):\n",
    "            node = self.express_array[i]\n",
    "            next_node = self.express_array[i+1]\n",
    "            print(f'Normal Lane Nodes between Express Lane Node {node.elem} and Express Lane Node {next_node.elem} are: ')\n",
    "            while node != next_node:\n",
    "                print(node.elem, end = '->')\n",
    "                node = node.next\n",
    "            print()\n",
    "\n",
    "        print(f'Normal Lane Nodes ending in the Express Lane Node: {node.elem}')\n",
    "\n",
    "    #DO IT YOURSELF\n",
    "\n",
    "    def create_layered_hashtable(self, linked_list_head):\n",
    "\n",
    "        sizeLL = count(linked_list_head)\n",
    "        bucket = (sizeLL // len(self.express_array)) + 1\n",
    "        h1 = linked_list_head\n",
    "        num = 0\n",
    "        i = 0\n",
    "        while h1!= None:\n",
    "            if num % bucket == 0:\n",
    "                self.express_array[i] = h1\n",
    "                i += 1\n",
    "            h1 = h1.next\n",
    "            num += 1\n",
    "        return self.express_array\n",
    "\n",
    "    #DO IT YOURSELF\n",
    "\n",
    "    def search_element(self,k):\n",
    "        bucket, next_node = 0, 0\n",
    "        for i in range(len(self.express_array)-1):\n",
    "            if self.express_array[i].elem <= k <= self.express_array[i+1].elem:\n",
    "                bucket = self.express_array[i]\n",
    "                next_node = self.express_array[i+1]\n",
    "                break\n",
    "        if bucket == 0:\n",
    "            return \"Not Found\"\n",
    "        elif k == bucket.elem or k == next_node.elem:\n",
    "            return \"Found\"\n",
    "        else:\n",
    "            while bucket != next_node:\n",
    "                if bucket.elem == k:\n",
    "                    return \"Found\"\n",
    "                bucket = bucket.next\n",
    "        return \"Not Found\"\n"
   ]
  },
  {
   "cell_type": "code",
   "execution_count": null,
   "metadata": {
    "colab": {
     "base_uri": "https://localhost:8080/"
    },
    "id": "9lxnCzZ6fymw",
    "outputId": "443135d5-1274-479a-ce33-51a5eeb793b8"
   },
   "outputs": [],
   "source": [
    "arr = [4,6,9,18,25,37,62,67,79,84]\n",
    "head = create_linked_list(arr)\n",
    "express_array_size = 4\n",
    "\n",
    "layered_ht = Layered_Hashtable(express_array_size)\n",
    "layered_ht.create_layered_hashtable(head)\n",
    "layered_ht.print_layered_hashtable()\n",
    "\n",
    "print('==========1===========')\n",
    "result = layered_ht.search_element(67)\n",
    "unittest.output_test(result, 'Found')\n",
    "print(f'67 {result}') #67 Found\n",
    "\n",
    "print('==========2===========')\n",
    "result = layered_ht.search_element(84)\n",
    "unittest.output_test(result, 'Found')\n",
    "print(f'84 {result}') #84 Found\n",
    "\n",
    "print('==========3===========')\n",
    "result = layered_ht.search_element(1)\n",
    "unittest.output_test(result, 'Not Found')\n",
    "print(f'1 {result}') #1 Not Found\n",
    "\n",
    "print('==========4===========')\n",
    "result = layered_ht.search_element(92)\n",
    "unittest.output_test(result, 'Not Found')\n",
    "print(f'92 {result}') #92 Not Found\n",
    "\n",
    "print('==========5===========')\n",
    "result = layered_ht.search_element(41)\n",
    "unittest.output_test(result, 'Not Found')\n",
    "print(f'41 {result}') #41 Not Found"
   ]
  },
  {
   "cell_type": "code",
   "execution_count": null,
   "metadata": {
    "id": "EKKlRMvRTbjZ"
   },
   "outputs": [],
   "source": [
    "class Node:\n",
    "    def __init__(self,elem,next= None):\n",
    "        self.elem=elem\n",
    "        self.next=next\n",
    "\n",
    "def listPrinter(head):\n",
    "    temp=head\n",
    "    while temp!=None:\n",
    "        print(temp.elem,end=\" \")\n",
    "        temp=temp.next"
   ]
  },
  {
   "cell_type": "code",
   "execution_count": null,
   "metadata": {
    "id": "NeRDceG1Thzl"
   },
   "outputs": [],
   "source": [
    "''' Lab 7 Evaluation '''\n",
    "def insert(head,elem):\n",
    "    h = head\n",
    "    while h.next != None:\n",
    "        h = h.next\n",
    "    h.next = elem\n",
    "    return head\n",
    "def divisorList(n,c=1,head= None):\n",
    "    if head == None:\n",
    "        head = Node(c)\n",
    "    elif n < c:\n",
    "        return head\n",
    "    elif n % c == 0:\n",
    "        head = insert(head,Node(c))\n",
    "    return divisorList(n,c+1,head)"
   ]
  },
  {
   "cell_type": "code",
   "execution_count": null,
   "metadata": {
    "colab": {
     "base_uri": "https://localhost:8080/"
    },
    "id": "e8d8d4BcTlpv",
    "outputId": "20b50ea6-d7fa-4112-b5c7-3effd03a79db"
   },
   "outputs": [],
   "source": [
    "LinkedList1=divisorList(12)\n",
    "listPrinter(LinkedList1)     #this should print 1 2 3 4 6 12\n",
    "print()\n",
    "LinkedList=divisorList(23)\n",
    "listPrinter(LinkedList)      #this should print 1 23"
   ]
  },
  {
   "cell_type": "code",
   "execution_count": null,
   "metadata": {},
   "outputs": [],
   "source": []
  }
 ],
 "metadata": {
  "colab": {
   "provenance": []
  },
  "kernelspec": {
   "display_name": "Python 3 (ipykernel)",
   "language": "python",
   "name": "python3"
  },
  "language_info": {
   "codemirror_mode": {
    "name": "ipython",
    "version": 3
   },
   "file_extension": ".py",
   "mimetype": "text/x-python",
   "name": "python",
   "nbconvert_exporter": "python",
   "pygments_lexer": "ipython3",
   "version": "3.10.12"
  }
 },
 "nbformat": 4,
 "nbformat_minor": 1
}
