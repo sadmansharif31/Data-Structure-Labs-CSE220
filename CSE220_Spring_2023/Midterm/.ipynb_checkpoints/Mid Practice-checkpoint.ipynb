{
 "cells": [
  {
   "cell_type": "code",
   "execution_count": 2,
   "id": "63f0575a",
   "metadata": {},
   "outputs": [],
   "source": [
    "import numpy as np"
   ]
  },
  {
   "cell_type": "code",
   "execution_count": 7,
   "id": "ec305eaf",
   "metadata": {},
   "outputs": [
    {
     "name": "stdout",
     "output_type": "stream",
     "text": [
      "[2 3 4 0]\n"
     ]
    }
   ],
   "source": [
    "def shiftLeft(arr): \n",
    "    \n",
    "    for i in range(1, len(arr)): \n",
    "\n",
    "        arr[i-1]= arr[i] \n",
    "        \n",
    "    arr[len(arr)-1]= 0 \n",
    "    \n",
    "    return arr\n",
    "\n",
    "arr=np.array([1,2,3,4])\n",
    "\n",
    "print(shiftLeft(arr))"
   ]
  },
  {
   "cell_type": "code",
   "execution_count": 13,
   "id": "30657743",
   "metadata": {},
   "outputs": [
    {
     "name": "stdout",
     "output_type": "stream",
     "text": [
      "[2 3 4 1]\n"
     ]
    }
   ],
   "source": [
    "def rotateLeft(arr): \n",
    "    \n",
    "    temp=arr[0]\n",
    "    \n",
    "    for i in range(1, len(arr)): \n",
    "\n",
    "        arr[i-1]= arr[i] \n",
    "        \n",
    "    arr[len(arr)-1]= temp\n",
    "    \n",
    "    return arr\n",
    "\n",
    "arr=np.array([1,2,3,4])\n",
    "\n",
    "print(rotateLeft(arr))"
   ]
  },
  {
   "cell_type": "code",
   "execution_count": 8,
   "id": "e2b5b11c",
   "metadata": {},
   "outputs": [
    {
     "name": "stdout",
     "output_type": "stream",
     "text": [
      "[0 1 2 3]\n"
     ]
    }
   ],
   "source": [
    "def shiftRight(arr): \n",
    "    \n",
    "    for i in range(len(arr)-1, 0, -1):\n",
    "        arr[i]= arr[i-1] \n",
    "    arr[0]=0 \n",
    "    return arr\n",
    "\n",
    "arr= np.array([1,2,3,4])\n",
    "print(shiftRight(arr))\n"
   ]
  },
  {
   "cell_type": "code",
   "execution_count": 12,
   "id": "6484619a",
   "metadata": {},
   "outputs": [
    {
     "name": "stdout",
     "output_type": "stream",
     "text": [
      "[4 1 2 3]\n"
     ]
    }
   ],
   "source": [
    "def rotateRight(arr): \n",
    "    temp=arr[len(arr)-1]\n",
    "    for i in range(len(arr)-1, 0, -1):\n",
    "        arr[i]= arr[i-1] \n",
    "    arr[0]=temp \n",
    "    return arr\n",
    "\n",
    "arr= np.array([1,2,3,4])\n",
    "print(rotateRight(arr))\n"
   ]
  },
  {
   "cell_type": "code",
   "execution_count": 17,
   "id": "bc3f8834",
   "metadata": {},
   "outputs": [
    {
     "name": "stdout",
     "output_type": "stream",
     "text": [
      "[ 1  2 11  3  4  0  0  0]\n"
     ]
    }
   ],
   "source": [
    "def insert(arr,elm,size,index):\n",
    "    \n",
    "    if size==len(arr):\n",
    "        print('Error')\n",
    "        \n",
    "    else:\n",
    "        for i in range(size,index,-1):\n",
    "            arr[i]=arr[i-1]\n",
    "        arr[index]=elm\n",
    "        \n",
    "    return arr\n",
    "                \n",
    "arr= np.array([1,2,3,4,0,0,0,0])\n",
    "print(insert(arr,11,4,2))        \n",
    "        "
   ]
  },
  {
   "cell_type": "code",
   "execution_count": 21,
   "id": "dfb01214",
   "metadata": {},
   "outputs": [
    {
     "name": "stdout",
     "output_type": "stream",
     "text": [
      "[1 2 3 4 0 0 0 0 0]\n"
     ]
    }
   ],
   "source": [
    "def remove(arr,size,index):\n",
    "    \n",
    "    if size==len(arr):\n",
    "        print('Error')\n",
    "        \n",
    "    else:\n",
    "        for i in range(index+1,size):\n",
    "            arr[i-1]=arr[i]\n",
    "        arr[size-1]=0\n",
    "        \n",
    "    return arr\n",
    "                \n",
    "arr= np.array([1,2,11,3,4,0,0,0,0])\n",
    "print(remove(arr,5,2))     "
   ]
  },
  {
   "cell_type": "code",
   "execution_count": 25,
   "id": "307854e3",
   "metadata": {},
   "outputs": [
    {
     "name": "stdout",
     "output_type": "stream",
     "text": [
      "[4 3 2 1]\n",
      "[5 4 3 2 1]\n"
     ]
    }
   ],
   "source": [
    "def reverse_in_place(arr):\n",
    "    \n",
    "    j=len(arr)-1 \n",
    "    for i in range(len(arr)//2): \n",
    "        arr[i], arr[j]= arr[j], arr[i] \n",
    "      \n",
    "        j-=1 \n",
    "    return arr\n",
    "\n",
    "arr= np.array([1,2,3,4])\n",
    "print(reverse_in_place(arr))\n",
    "arr= np.array([1,2,3,4,5])\n",
    "print(reverse_in_place(arr))\n"
   ]
  },
  {
   "cell_type": "code",
   "execution_count": 1,
   "id": "f6253b41",
   "metadata": {},
   "outputs": [],
   "source": [
    "#Run this cell\n",
    "\n",
    "class Node:\n",
    "    def __init__(self,elem,next = None):\n",
    "        self.elem,self.next = elem,next\n",
    "\n",
    "def createList(arr):\n",
    "    head = Node(arr[0])\n",
    "    tail = head\n",
    "    for i in range(1,len(arr)):\n",
    "        newNode = Node(arr[i])\n",
    "        tail.next = newNode\n",
    "        tail = newNode\n",
    "    return head\n",
    "\n",
    "def printLinkedList(head):\n",
    "    temp = head\n",
    "    while temp != None:\n",
    "        if temp.next != None:\n",
    "            print(temp.elem, end = '-->')\n",
    "        else:\n",
    "            print(temp.elem)\n",
    "        temp = temp.next\n",
    "    print()"
   ]
  },
  {
   "cell_type": "code",
   "execution_count": 10,
   "id": "5e9f6154",
   "metadata": {},
   "outputs": [
    {
     "name": "stdout",
     "output_type": "stream",
     "text": [
      "==============Test Case 1=============\n",
      "Array:  13-->10-->6-->20-->17\n",
      "\n",
      "17-->20-->6-->10-->13\n",
      "\n"
     ]
    }
   ],
   "source": [
    "def reverse_out_place(head):\n",
    "\n",
    "    new_head=Node(head.elem,None)\n",
    "    temp=head.next\n",
    "\n",
    "    while temp!=None:\n",
    "        n=Node(temp.elem,new_head)\n",
    "        new_head=n\n",
    "        temp=temp.next\n",
    "        \n",
    "    return new_head\n",
    "\n",
    "\n",
    "print('==============Test Case 1=============')\n",
    "head = createList(np.array([13,10,6,20,17]))\n",
    "print('Array: ', end = ' ')\n",
    "printLinkedList(head)\n",
    "\n",
    "ola=reverse_out_place(head)\n",
    "printLinkedList(ola)\n",
    "\n"
   ]
  },
  {
   "cell_type": "code",
   "execution_count": 11,
   "id": "c4cea635",
   "metadata": {},
   "outputs": [
    {
     "name": "stdout",
     "output_type": "stream",
     "text": [
      "==============Test Case 1=============\n",
      "Array:  13-->10-->6-->20-->17\n",
      "\n",
      "17-->20-->6-->10-->13\n",
      "\n"
     ]
    }
   ],
   "source": [
    "def reverse_in_place(head):\n",
    "\n",
    "    new_head=None\n",
    "    temp=head\n",
    "\n",
    "    while temp!=None:\n",
    "        n=temp.next\n",
    "        temp.next=new_head\n",
    "        new_head=temp\n",
    "        temp=n\n",
    "        \n",
    "    return new_head\n",
    "\n",
    "\n",
    "print('==============Test Case 1=============')\n",
    "head = createList(np.array([13,10,6,20,17]))\n",
    "print('Array: ', end = ' ')\n",
    "printLinkedList(head)\n",
    "\n",
    "ola=reverse_out_place(head)\n",
    "printLinkedList(ola)"
   ]
  },
  {
   "cell_type": "code",
   "execution_count": null,
   "id": "ce883bb1",
   "metadata": {},
   "outputs": [],
   "source": []
  }
 ],
 "metadata": {
  "kernelspec": {
   "display_name": "Python 3 (ipykernel)",
   "language": "python",
   "name": "python3"
  },
  "language_info": {
   "codemirror_mode": {
    "name": "ipython",
    "version": 3
   },
   "file_extension": ".py",
   "mimetype": "text/x-python",
   "name": "python",
   "nbconvert_exporter": "python",
   "pygments_lexer": "ipython3",
   "version": "3.10.12"
  }
 },
 "nbformat": 4,
 "nbformat_minor": 5
}
