{
 "cells": [
  {
   "cell_type": "code",
   "execution_count": 8,
   "id": "99abea63",
   "metadata": {},
   "outputs": [
    {
     "name": "stdout",
     "output_type": "stream",
     "text": [
      " 16 11 6 1 -4 1 6 11 16 \n",
      "    11 6 1 -4 1 6 11 \n",
      "       6 1 -4 1 6 \n",
      "          1 -4 1 \n"
     ]
    }
   ],
   "source": [
    "def row(n,current,numN=0,reverse=False):\n",
    "    \n",
    "    if numN == 2:\n",
    "        print()\n",
    "        return 0\n",
    "    \n",
    "    print(current, end=\" \")\n",
    "    \n",
    "    if current == n:\n",
    "        numN += 1\n",
    "  \n",
    "    if current <= 0:\n",
    "        reverse = True\n",
    "  \n",
    "    if reverse:\n",
    "        row(n,current+5,numN,reverse)\n",
    "    else:\n",
    "        row(n,current-5,numN)\n",
    "\n",
    "def pattern(n,iteration=0):\n",
    "    print(\"   \" * iteration,end=\" \") \n",
    "    row(n,n)\n",
    "  \n",
    "    nextNum = n - 5\n",
    "    if nextNum <= 0:\n",
    "        return 0\n",
    "    pattern(nextNum,iteration+1)\n",
    "\n",
    "pattern(16)"
   ]
  },
  {
   "cell_type": "code",
   "execution_count": null,
   "id": "893eef4f",
   "metadata": {},
   "outputs": [],
   "source": []
  }
 ],
 "metadata": {
  "kernelspec": {
   "display_name": "Python 3 (ipykernel)",
   "language": "python",
   "name": "python3"
  },
  "language_info": {
   "codemirror_mode": {
    "name": "ipython",
    "version": 3
   },
   "file_extension": ".py",
   "mimetype": "text/x-python",
   "name": "python",
   "nbconvert_exporter": "python",
   "pygments_lexer": "ipython3",
   "version": "3.10.12"
  }
 },
 "nbformat": 4,
 "nbformat_minor": 5
}
