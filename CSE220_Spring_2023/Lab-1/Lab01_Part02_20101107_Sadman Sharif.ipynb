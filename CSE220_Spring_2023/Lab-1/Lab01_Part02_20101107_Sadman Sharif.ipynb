{
 "cells": [
  {
   "cell_type": "code",
   "execution_count": 1,
   "id": "61d52b09",
   "metadata": {},
   "outputs": [],
   "source": [
    "import numpy as np\n",
    "import math"
   ]
  },
  {
   "cell_type": "code",
   "execution_count": 2,
   "id": "241ee2e3",
   "metadata": {},
   "outputs": [
    {
     "name": "stdout",
     "output_type": "stream",
     "text": [
      "The mean of the numbers is:  10.181818181818182\n",
      "The standard deviation is:  7.96\n",
      "New array: [25, -5]\n"
     ]
    }
   ],
   "source": [
    "def standard_deviation(array):\n",
    "    \n",
    "    if len(array)< 2:\n",
    "        return 0.0\n",
    "\n",
    "    m = mean(array)\n",
    "    v=0.0\n",
    "    for i in array:\n",
    "        v+=(i-m)**2\n",
    "    v=v/(len(array)-1)\n",
    "    std_dev = math.sqrt(v)\n",
    "    \n",
    "    return round(std_dev, 2)\n",
    "\n",
    "\n",
    "def mean(array):\n",
    "    summ = 0.0  \n",
    "    for i in array:\n",
    "        summ += i\n",
    "\n",
    "    temp=summ/len(array)  \n",
    "\n",
    "    return temp\n",
    "\n",
    "\n",
    "def newarray(array):\n",
    "    \n",
    "    s_deviation = standard_deviation(array)\n",
    "    p=mean(arr)\n",
    "\n",
    "    point= 1.5*s_deviation\n",
    "    max_p= point+p\n",
    "    min_p= point-p\n",
    "   \n",
    "    i=0\n",
    "    c=0\n",
    "    while i < len(array):\n",
    "        if array[i]>max_p or array[i] < min_p:\n",
    "            c+= 1\n",
    "        i+=1\n",
    "\n",
    "    if c== 0:\n",
    "        \n",
    "        return None\n",
    "    \n",
    "    else:\n",
    "        \n",
    "        temp= np.zeros(c, dtype=int)  \n",
    "        i = 0\n",
    "        j = 0\n",
    "        while i < len(array):\n",
    "            if array[i] < min_p or array[i] > max_p:\n",
    "                temp[j] = int(array[i])  \n",
    "                j += 1\n",
    "            i += 1\n",
    "\n",
    "        return '[' + ', '.join(map(str,temp)) + ']'\n",
    "\n",
    "\n",
    "arr=[10, 8, 13, 9, 14, 25, -5, 20, 7, 7, 4]\n",
    "\n",
    "meanarr=mean(arr)\n",
    "sd=standard_deviation(arr)  \n",
    "new=newarray(arr)\n",
    "\n",
    "\n",
    "print('The mean of the numbers is: ',meanarr)   \n",
    "print('The standard deviation is: ',sd)\n",
    "print('New array:', new)"
   ]
  },
  {
   "cell_type": "code",
   "execution_count": null,
   "id": "d5aaa00f",
   "metadata": {},
   "outputs": [],
   "source": []
  }
 ],
 "metadata": {
  "kernelspec": {
   "display_name": "Python 3 (ipykernel)",
   "language": "python",
   "name": "python3"
  },
  "language_info": {
   "codemirror_mode": {
    "name": "ipython",
    "version": 3
   },
   "file_extension": ".py",
   "mimetype": "text/x-python",
   "name": "python",
   "nbconvert_exporter": "python",
   "pygments_lexer": "ipython3",
   "version": "3.10.12"
  }
 },
 "nbformat": 4,
 "nbformat_minor": 5
}
