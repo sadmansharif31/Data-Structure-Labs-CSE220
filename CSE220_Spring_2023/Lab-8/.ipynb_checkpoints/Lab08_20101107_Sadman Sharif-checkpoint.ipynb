{
 "cells": [
  {
   "cell_type": "code",
   "execution_count": 1,
   "metadata": {
    "id": "D6vC520OPeTa"
   },
   "outputs": [],
   "source": [
    "class BTNode:\n",
    "    \n",
    "    def __init__(self, elem):\n",
    "        self.elem = elem\n",
    "        self.right = None\n",
    "        self.left = None"
   ]
  },
  {
   "cell_type": "code",
   "execution_count": 2,
   "metadata": {
    "id": "UDTKlm4-PfNM"
   },
   "outputs": [],
   "source": [
    "def inorder(root):\n",
    "    if root == None:\n",
    "        return\n",
    "\n",
    "    inorder(root.left)\n",
    "    print(root.elem, end = ' ')\n",
    "    inorder(root.right)"
   ]
  },
  {
   "cell_type": "code",
   "execution_count": 3,
   "metadata": {
    "colab": {
     "base_uri": "https://localhost:8080/"
    },
    "id": "Rtc22SPzPgzM",
    "outputId": "f32e6391-47c4-4b25-a37e-77a375f12927"
   },
   "outputs": [
    {
     "name": "stdout",
     "output_type": "stream",
     "text": [
      "H D B E A I F J C G k "
     ]
    }
   ],
   "source": [
    "def tree_construction(arr, i = 1):\n",
    "    if i>=len(arr) or arr[i] == None:\n",
    "        return None\n",
    "    p = BTNode(arr[i])\n",
    "    p.left = tree_construction(arr, 2*i)\n",
    "    p.right = tree_construction(arr, 2*i+1)\n",
    "    return p\n",
    "\n",
    "\n",
    "root2 = tree_construction([None, 'A', 'B', 'C', 'D', 'E', 'F', 'G', 'H', None, None, None, 'I', 'J', None, 'k'])\n",
    "inorder(root2)"
   ]
  },
  {
   "cell_type": "markdown",
   "metadata": {
    "id": "S2nNCJNhPqGq"
   },
   "source": [
    "Task 1"
   ]
  },
  {
   "cell_type": "code",
   "execution_count": 4,
   "metadata": {
    "id": "zbBHU3FoPieb"
   },
   "outputs": [
    {
     "name": "stdout",
     "output_type": "stream",
     "text": [
      "Given Tree Inorder Traversal:  40 20 60 10 30 \n",
      "Mirrored Tree Inorder Traversal:  30 10 60 20 40 "
     ]
    }
   ],
   "source": [
    "def convert_mirror(root):\n",
    "    \n",
    "    if root==None:\n",
    "        return\n",
    "    \n",
    "    else:\n",
    "       \n",
    "        convert_mirror(root.left)\n",
    "        convert_mirror(root.right)\n",
    "        \n",
    "        temp = root.left\n",
    "        root.left=root.right\n",
    "        root.right = temp\n",
    "        \n",
    "        return root \n",
    "\n",
    "#DRIVER CODE\n",
    "root = BTNode(10)\n",
    "n1 = BTNode(20)\n",
    "n2 = BTNode(30)\n",
    "n3 = BTNode(40)\n",
    "n4 = BTNode(60)\n",
    "\n",
    "root.left = n1\n",
    "root.right = n2\n",
    "\n",
    "n1.left = n3\n",
    "n1.right = n4\n",
    "\n",
    "print('Given Tree Inorder Traversal: ', end = ' ')\n",
    "inorder(root) #Given Tree Inorder Traversal:  40 20 60 10 30\n",
    "print()\n",
    "\n",
    "root2 = convert_mirror(root)\n",
    "print('Mirrored Tree Inorder Traversal: ', end = ' ')\n",
    "inorder(root2) #Mirrored Tree Inorder Traversal:  30 10 60 20 40"
   ]
  },
  {
   "cell_type": "markdown",
   "metadata": {
    "id": "c-TBf3m0PrtK"
   },
   "source": [
    "Task 2"
   ]
  },
  {
   "cell_type": "code",
   "execution_count": 5,
   "metadata": {
    "id": "lsuxinlBPmji"
   },
   "outputs": [
    {
     "name": "stdout",
     "output_type": "stream",
     "text": [
      "Given Tree Inorder Traversal:  3 9 -5 4 2 7 \n",
      "Level Wise Smallest Value:  {0: 4, 1: 2, 2: -5}\n"
     ]
    }
   ],
   "source": [
    "def smallest_level(root,i=0,dit={}):\n",
    "    \n",
    "    if root==None:\n",
    "        return dit\n",
    "    \n",
    "    elif i not in dit or (root.elem < dit[i]):\n",
    "        dit[i] = root.elem\n",
    "\n",
    "    smallest_level(root.left, i+1,dit)\n",
    "    smallest_level(root.right,i+1,dit)\n",
    "\n",
    "    return dit\n",
    "\n",
    "#DRIVER CODE\n",
    "root = tree_construction([None, 4,9,2,3,-5,None,7])\n",
    "print('Given Tree Inorder Traversal: ', end = ' ')\n",
    "inorder(root) #Given Tree Inorder Traversal:  3 9 5 4 2 7\n",
    "print()\n",
    "print('Level Wise Smallest Value: ', end = ' ')\n",
    "print(smallest_level(root)) #Level Wise Smallest Value:  {0: 4, 1: 2, 2: -5}"
   ]
  },
  {
   "cell_type": "markdown",
   "metadata": {
    "id": "7r3lH3aWPz2d"
   },
   "source": [
    "Task 3"
   ]
  },
  {
   "cell_type": "code",
   "execution_count": 8,
   "metadata": {
    "id": "zFwP64v4Pu6d"
   },
   "outputs": [
    {
     "name": "stdout",
     "output_type": "stream",
     "text": [
      "Given Tree Inorder Traversal:  4 8 10 12 14 20 22 \n",
      "Inorder predecessor of node 20: 14\n"
     ]
    }
   ],
   "source": [
    "def inorder_predecessor(root, x):\n",
    "    \n",
    "    if root==None:\n",
    "        return None\n",
    "    \n",
    "    if root.elem<x.elem:\n",
    "        \n",
    "        temp=inorder_predecessor(root.right, x)\n",
    "        \n",
    "        if temp!=None:\n",
    "            return temp\n",
    "        else:\n",
    "            return root\n",
    "    else:\n",
    "        return inorder_predecessor(root.left, x)\n",
    "\n",
    "#DRIVER CODE\n",
    "root = BTNode(20)\n",
    "n1 = BTNode(8)\n",
    "n2 = BTNode(22)\n",
    "n3 = BTNode(4)\n",
    "n4 = BTNode(12)\n",
    "n5 = BTNode(10)\n",
    "n6 = BTNode(14)\n",
    "\n",
    "root.left = n1\n",
    "root.right = n2\n",
    "\n",
    "n1.left = n3\n",
    "n1.right = n4\n",
    "\n",
    "n4.left = n5\n",
    "n4.right = n6\n",
    "\n",
    "print('Given Tree Inorder Traversal: ', end = ' ')\n",
    "inorder(root) #Given Tree Inorder Traversal:  4 8 10 12 14 20 22\n",
    "print()\n",
    "\n",
    "x = root\n",
    "print(f'Inorder predecessor of node {x.elem}: {inorder_predecessor(root, x).elem}') #Inorder predecessor of node 20: 14"
   ]
  },
  {
   "cell_type": "markdown",
   "metadata": {
    "id": "t3IGW4OaP8Vy"
   },
   "source": [
    "Task 4"
   ]
  },
  {
   "cell_type": "code",
   "execution_count": 11,
   "metadata": {
    "id": "d1A-tR7hP2fI"
   },
   "outputs": [
    {
     "name": "stdout",
     "output_type": "stream",
     "text": [
      "LCA(6, 12) = 10\n",
      "LCA(20, 6) = 15\n",
      "LCA(18, 22) = 20\n",
      "LCA(20, 25) = 25\n",
      "LCA(10, 12) = 10\n"
     ]
    }
   ],
   "source": [
    "def findLCA(root, x, y):\n",
    "   \n",
    "    if root is None:\n",
    "        return None\n",
    "    \n",
    "    if x<root.elem and y<root.elem:\n",
    "        return findLCA(root.left, x, y)\n",
    "    \n",
    "    if x>root.elem and y>root.elem:\n",
    "        return findLCA(root.right, x, y)\n",
    "    \n",
    "    return root\n",
    "\n",
    "\n",
    "root = BTNode(15)\n",
    "root.left = BTNode(10)\n",
    "root.right = BTNode(25)\n",
    "root.left.left = BTNode(8)\n",
    "root.left.right = BTNode(12)\n",
    "root.right.left = BTNode(20)\n",
    "root.right.right = BTNode(30)\n",
    "root.left.left.left = BTNode(6)\n",
    "root.left.left.right = BTNode(9)\n",
    "root.right.left.left = BTNode(18)\n",
    "root.right.left.right = BTNode(22)\n",
    "    \n",
    "\n",
    "lca_node = findLCA(root, 6, 12)\n",
    "print(f\"LCA(6, 12) = {lca_node.elem if lca_node else 'do not exist'}\")\n",
    "\n",
    "lca_node = findLCA(root, 20, 6)\n",
    "print(f\"LCA(20, 6) = {lca_node.elem if lca_node else 'do not exist'}\")\n",
    "\n",
    "lca_node = findLCA(root, 18, 22)\n",
    "print(f\"LCA(18, 22) = {lca_node.elem if lca_node else 'do not exist'}\")\n",
    "\n",
    "lca_node = findLCA(root, 20, 25)\n",
    "print(f\"LCA(20, 25) = {lca_node.elem if lca_node else 'do not exist'}\")\n",
    "\n",
    "lca_node = findLCA(root, 10, 12)\n",
    "print(f\"LCA(10, 12) = {lca_node.elem if lca_node else 'do not exist'}\")"
   ]
  },
  {
   "cell_type": "code",
   "execution_count": null,
   "metadata": {},
   "outputs": [],
   "source": [
    "# Height of a tree\n",
    "\n",
    "def height(root):\n",
    "    \n",
    "    if root==None:\n",
    "        return -1\n",
    "    else:\n",
    "        return 1+max(height(root.left),height(root.right))"
   ]
  },
  {
   "cell_type": "code",
   "execution_count": null,
   "metadata": {},
   "outputs": [],
   "source": [
    "# Number of nodes of a tree\n",
    "\n",
    "def count(root):\n",
    "    if root==None:\n",
    "        return 0\n",
    "    else:\n",
    "        return 1+count(root.left)+count(root.right)"
   ]
  },
  {
   "cell_type": "code",
   "execution_count": null,
   "metadata": {},
   "outputs": [],
   "source": [
    "# left tree sum minus right tree sum\n",
    "\n",
    "def summ(root):\n",
    "    \n",
    "    if root==None:\n",
    "        return 0\n",
    "    \n",
    "    else:\n",
    "        \n",
    "        return root.elem+summ(root.left)+summ(root.right)\n",
    "    \n",
    "    \n",
    "def func(root):\n",
    "    \n",
    "    return summ(root.left)-summ(root.right)"
   ]
  },
  {
   "cell_type": "markdown",
   "metadata": {
    "id": "T3Pimbw_PLHY"
   },
   "source": [
    "BONUS TASK 1"
   ]
  },
  {
   "cell_type": "code",
   "execution_count": 1,
   "metadata": {
    "id": "m4E9_E8PThk6"
   },
   "outputs": [],
   "source": [
    "# Cheking ig the sum of child nodes is equal to the parent node\n",
    "\n",
    "def summ(node):\n",
    "\n",
    "    if node==None:\n",
    "        return 0\n",
    "    \n",
    "    if node.left==None and node.right==None:\n",
    "        return node.elem\n",
    "    \n",
    "    left= summ(node.left)\n",
    "    right= summ(node.right)\n",
    "    \n",
    "    if node.elem==left+right:\n",
    "        return node.elem+left+right\n",
    "    \n",
    "    return False\n",
    "\n",
    "def is_correct(node):\n",
    "    \n",
    "    return summ(node)!=False\n"
   ]
  },
  {
   "cell_type": "code",
   "execution_count": 1,
   "metadata": {},
   "outputs": [],
   "source": [
    "def evaluate(root):\n",
    "\n",
    "    if root==None:\n",
    "        return 0\n",
    "    \n",
    "    if root.left==None and root.right==None:\n",
    "        return int(root.elem)\n",
    "    \n",
    "    left= evaluate(root.left)\n",
    "    right= evaluate(root.right)\n",
    "    \n",
    "    if root.elem=='+':\n",
    "        return left+right\n",
    "    \n",
    "    elif root.elem=='-':\n",
    "        return left-right\n",
    "    \n",
    "    elif root.elem=='*':\n",
    "        return left*right\n",
    "    \n",
    "    else:\n",
    "        return left//right"
   ]
  },
  {
   "cell_type": "markdown",
   "metadata": {
    "id": "SBD-0xoZP_ni"
   },
   "source": [
    "Bonus Task 2"
   ]
  },
  {
   "cell_type": "code",
   "execution_count": null,
   "metadata": {},
   "outputs": [],
   "source": [
    "# count number of any specific node in a tree\n",
    "\n",
    "def count(root,key):\n",
    "    \n",
    "    c=0\n",
    "    \n",
    "    if root==None:\n",
    "        return 0\n",
    "    \n",
    "    else:\n",
    "        \n",
    "        if root.elm==key:\n",
    "            c+=1\n",
    "        \n",
    "        c+=count(root.left,key)\n",
    "        c+=count(root.right,key)\n",
    "        \n",
    "        return c"
   ]
  },
  {
   "cell_type": "code",
   "execution_count": 2,
   "metadata": {},
   "outputs": [],
   "source": [
    "# Minusing the sum of even level nodes from odd level nodes\n",
    "\n",
    "def levelminus(node,depth=0):\n",
    "    \n",
    "    if node==None:\n",
    "        \n",
    "        return 0\n",
    "    \n",
    "    else:\n",
    "        add=0\n",
    "        \n",
    "        if depth%2!=0:\n",
    "            add+=node.elem\n",
    "        else:\n",
    "            add-=node.elem\n",
    "\n",
    "        add+=levelminus(node.left, depth + 1)\n",
    "        add+=levelminus(node.right, depth + 1)\n",
    "\n",
    "        return add        "
   ]
  },
  {
   "cell_type": "code",
   "execution_count": null,
   "metadata": {},
   "outputs": [],
   "source": [
    "# adding node%depth (except the root node or node at depth 0)\n",
    "\n",
    "def levelmodulus(node, depth=0):\n",
    "        \n",
    "    if node==None:\n",
    "        return 0  \n",
    "\n",
    "    else:\n",
    "        add=0\n",
    "        if depth==0:\n",
    "            add+=node.elem\n",
    "        else:\n",
    "            add+=node.elem % depth\n",
    "\n",
    "        add+=levelmodulus(node.left, depth + 1)\n",
    "        add+=levelmodulus(node.right,depth + 1)\n",
    "\n",
    "        return add"
   ]
  },
  {
   "cell_type": "code",
   "execution_count": null,
   "metadata": {},
   "outputs": [],
   "source": [
    "# checking if 2 tree are identical or not\n",
    "\n",
    "def identicalTrees(a,b):\n",
    "    \n",
    "    if a is None and b is None:\n",
    "        return True\n",
    "    \n",
    "    if a is not None and b is not None :\n",
    "        \n",
    "        return ((a.data==b.data) and identicalTrees(a.left,b.left) and :\n",
    "                                     identicalTrees(a.right,b.right))\n",
    "     \n",
    "    return False"
   ]
  },
  {
   "cell_type": "code",
   "execution_count": null,
   "metadata": {},
   "outputs": [],
   "source": [
    "# Checking if the tree is balanced or not\n",
    "\n",
    "def height(root):\n",
    "    \n",
    "    if root==None:\n",
    "        return -1\n",
    "    else:\n",
    "        return 1+max(height(root.left),height(root.right))\n",
    "    \n",
    "    \n",
    "def isbalanced(root):\n",
    "    \n",
    "    if root==None:\n",
    "        return True\n",
    "    \n",
    "    lh=height(root.left)\n",
    "    rh=height(root.right)\n",
    "    \n",
    "    if (abs(lh-rh)<=1) and isbalanced(root.left) is True and \n",
    "                           isbalanced(root.right) is True:\n",
    "            \n",
    "            return True\n",
    "        \n",
    "    return False"
   ]
  },
  {
   "cell_type": "code",
   "execution_count": null,
   "metadata": {},
   "outputs": [],
   "source": [
    "# Checking if the tree has any duplicate value of not\n",
    "\n",
    "def checkduplicate(root,s):\n",
    "    \n",
    "    if root==None:\n",
    "        return False\n",
    "    \n",
    "    if root.data is s:\n",
    "        return True\n",
    "    \n",
    "    s.add(root.data)\n",
    "    \n",
    "    return checkduplicate(root.left,s) or checkduplicate(root.right,s) \n",
    "\n",
    "def check(root):\n",
    "    \n",
    "    s=set()\n",
    "    \n",
    "    return checkduplicate(root,s)"
   ]
  },
  {
   "cell_type": "code",
   "execution_count": null,
   "metadata": {},
   "outputs": [],
   "source": [
    "# find height from root to a give node (all node values are different)\n",
    "\n",
    "def haspath(root,arr,x):\n",
    "    \n",
    "    if not root:\n",
    "        \n",
    "        return False\n",
    "    \n",
    "    arr.append(root.elem)\n",
    "    \n",
    "    if root.elem==x:\n",
    "        return True\n",
    "    \n",
    "    if haspath(root.left,arr,x) or haspath(root.right,arr,x):\n",
    "        \n",
    "        return True\n",
    "    \n",
    "    arr.pop(-1) # Since required node not present in left of right subtree\n",
    "    \n",
    "    return False\n",
    "\n",
    "\n",
    "def printpath(root,x):\n",
    "    \n",
    "    arr=[]\n",
    "    \n",
    "    if haspath(root,arr,x):\n",
    "        \n",
    "        for i in arr:\n",
    "            print(i)\n",
    "            \n",
    "    else:\n",
    "        print('No path')"
   ]
  },
  {
   "cell_type": "code",
   "execution_count": null,
   "metadata": {},
   "outputs": [],
   "source": [
    "# Printing element at 'k' distance\n",
    "\n",
    "def printdistancenode(root,k):\n",
    "    \n",
    "    if root==None or k<0:\n",
    "        \n",
    "        return\n",
    "    \n",
    "    if k==0:\n",
    "        \n",
    "        print(root.data)\n",
    "        return\n",
    "    \n",
    "    printdistancenode(root.left,k-1)\n",
    "    printdistancenode(root.right,k-1)"
   ]
  },
  {
   "cell_type": "code",
   "execution_count": null,
   "metadata": {},
   "outputs": [],
   "source": [
    "# printing only the single child nodes\n",
    "\n",
    "single_child_nodes=[]\n",
    "\n",
    "def printsinglenodes(root):\n",
    "    \n",
    "    if not root:\n",
    "        \n",
    "        return\n",
    "    \n",
    "    if not root.left and root.right:\n",
    "        single_child_nodes.append(root)\n",
    "       \n",
    "    if root.left and not root.right:\n",
    "        single_child_nodes.append(root)\n",
    "        \n",
    "    printsinglenodes(root.left)\n",
    "    printsinglenodes(root.right)\n",
    "        \n",
    "    return"
   ]
  },
  {
   "cell_type": "code",
   "execution_count": 1,
   "metadata": {},
   "outputs": [],
   "source": [
    "# checking skewed binary tree (either have 1 child or none)\n",
    "\n",
    "def isskewedBT(root):\n",
    "    \n",
    "    if root==None or (root.left==None and root.right==None):\n",
    "        \n",
    "        return 1\n",
    "    \n",
    "    if root.left and root.right:\n",
    "        \n",
    "        return 0\n",
    "    \n",
    "    if root.left:\n",
    "        \n",
    "        return isskewedBT(root.left)\n",
    "    \n",
    "    return isskewed(root.right)"
   ]
  },
  {
   "cell_type": "code",
   "execution_count": null,
   "metadata": {},
   "outputs": [],
   "source": [
    "# find if full BT or not (Has both right and left child non-empty)\n",
    "\n",
    "def findFullnodes(root):\n",
    "    \n",
    "    if root!=None:\n",
    "         \n",
    "        findFullnodes(root.left)\n",
    "        \n",
    "        if root.left!=None and root.right!=None:\n",
    "            \n",
    "            print(root.data, end=' ')\n",
    "            \n",
    "        findFullnodes(root.right)  "
   ]
  },
  {
   "cell_type": "code",
   "execution_count": null,
   "metadata": {},
   "outputs": [],
   "source": []
  }
 ],
 "metadata": {
  "colab": {
   "provenance": []
  },
  "kernelspec": {
   "display_name": "Python 3 (ipykernel)",
   "language": "python",
   "name": "python3"
  },
  "language_info": {
   "codemirror_mode": {
    "name": "ipython",
    "version": 3
   },
   "file_extension": ".py",
   "mimetype": "text/x-python",
   "name": "python",
   "nbconvert_exporter": "python",
   "pygments_lexer": "ipython3",
   "version": "3.10.12"
  }
 },
 "nbformat": 4,
 "nbformat_minor": 1
}
