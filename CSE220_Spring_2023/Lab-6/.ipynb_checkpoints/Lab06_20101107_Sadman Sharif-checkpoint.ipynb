{
 "cells": [
  {
   "cell_type": "code",
   "execution_count": 1,
   "metadata": {
    "id": "Gl_dGSpFeho1"
   },
   "outputs": [
    {
     "name": "stdout",
     "output_type": "stream",
     "text": [
      "Requirement already satisfied: fhm-unittest in d:\\conda\\envs\\pre\\lib\\site-packages (1.0.1)\n",
      "Requirement already satisfied: fuzzywuzzy in d:\\conda\\envs\\pre\\lib\\site-packages (0.18.0)\n"
     ]
    },
    {
     "name": "stderr",
     "output_type": "stream",
     "text": [
      "D:\\Conda\\envs\\Pre\\lib\\site-packages\\fuzzywuzzy\\fuzz.py:11: UserWarning: Using slow pure-python SequenceMatcher. Install python-Levenshtein to remove this warning\n",
      "  warnings.warn('Using slow pure-python SequenceMatcher. Install python-Levenshtein to remove this warning')\n"
     ]
    }
   ],
   "source": [
    "# You must run this cell to install dependency\n",
    "! pip3 install fhm-unittest\n",
    "! pip3 install fuzzywuzzy\n",
    "import fhm_unittest as unittest\n",
    "import numpy as np"
   ]
  },
  {
   "cell_type": "code",
   "execution_count": 2,
   "metadata": {
    "id": "hJuxwibMSnPz"
   },
   "outputs": [],
   "source": [
    "import math\n",
    "\n",
    "class Node:\n",
    "    def __init__(self, elem, next = None):\n",
    "        self.elem = elem\n",
    "        self.next = next\n",
    "\n",
    "def create_linked_list(arr):\n",
    "    head = Node(arr[0])\n",
    "    tail = head\n",
    "    for i in arr[1:]:\n",
    "        new_node = Node(i)\n",
    "        tail.next = new_node\n",
    "        tail = new_node\n",
    "    return head"
   ]
  },
  {
   "cell_type": "markdown",
   "metadata": {
    "id": "KM0LWTXLe11v"
   },
   "source": [
    "#Very Easy"
   ]
  },
  {
   "cell_type": "code",
   "execution_count": null,
   "metadata": {
    "id": "gGxKAROSej5y"
   },
   "outputs": [],
   "source": [
    "def recursive_sum(arr,idx=0):\n",
    "    \n",
    "    temp=len(arr)\n",
    "    \n",
    "    \n",
    "    if idx==temp:\n",
    "        return 0\n",
    "    \n",
    "    else:\n",
    "        return arr[idx] + recursive_sum(arr,idx+1)\n",
    "    \n",
    "\n",
    "\n",
    "#1\n",
    "arr1 = np.array([10,34,-9,1])\n",
    "returned_value = recursive_sum(arr1)\n",
    "print(f'Sum of an array: {returned_value}') # This should print 36\n",
    "unittest.output_test(returned_value, 36)\n"
   ]
  },
  {
   "cell_type": "code",
   "execution_count": null,
   "metadata": {
    "id": "2pqZG0e6eqby"
   },
   "outputs": [],
   "source": [
    "def nCr(n,r):\n",
    "    \n",
    "    if r==0 or n==r:\n",
    "        return 1\n",
    "    else:\n",
    "        return nCr(n-1,r-1) + nCr(n-1,r)\n",
    "\n",
    "#2\n",
    "print('========1========')\n",
    "returned_value = nCr(9,6)\n",
    "print(f'9C6: {returned_value}') # This should print 84\n",
    "unittest.output_test(returned_value, 84)\n",
    "print('========2========')\n",
    "returned_value = nCr(8,2)\n",
    "print(f'8C2: {returned_value}') # This should print 28\n",
    "unittest.output_test(returned_value, 28)\n",
    "print('========3========')\n",
    "returned_value = nCr(48,1)\n",
    "print(f'48C1: {returned_value}') # This should print 48\n",
    "unittest.output_test(returned_value, 48)\n"
   ]
  },
  {
   "cell_type": "code",
   "execution_count": null,
   "metadata": {
    "id": "XtBEwczoet2O"
   },
   "outputs": [],
   "source": [
    "def count_digit_recursive(value):\n",
    "    \n",
    "    if value<0:\n",
    "        value*=(-1)\n",
    "    \n",
    "    if value==0:\n",
    "        return 0\n",
    "    \n",
    "    if value//10==0:\n",
    "        return 1\n",
    "    \n",
    "    else:\n",
    "        return 1 + count_digit_recursive(value//10)\n",
    "#3\n",
    "returned_value = count_digit_recursive(7502)\n",
    "print(f'Number of Digits: {returned_value}') # This should print 4\n",
    "unittest.output_test(returned_value, 4)"
   ]
  },
  {
   "cell_type": "code",
   "execution_count": null,
   "metadata": {
    "id": "vLvXNEtleufk"
   },
   "outputs": [],
   "source": [
    "def check_prime_recursive(num,idx=2):\n",
    "    \n",
    "    if num<2:\n",
    "        return False\n",
    "    \n",
    "    if num==2:\n",
    "        return True\n",
    "\n",
    "    if num%idx==0:\n",
    "        return False\n",
    "    \n",
    "    if idx==num-1:\n",
    "        return True\n",
    "    \n",
    "        \n",
    "    return check_prime_recursive(num,idx+1)\n",
    "\n",
    "#4\n",
    "print('========1========')\n",
    "returned_value = check_prime_recursive(79)\n",
    "print(f'Prime: {returned_value}') # This should print True\n",
    "unittest.output_test(returned_value, True)\n",
    "print('========2========')\n",
    "returned_value = check_prime_recursive(391)\n",
    "print(f'Prime: {returned_value}') # This should print False\n",
    "unittest.output_test(returned_value, False)"
   ]
  },
  {
   "cell_type": "markdown",
   "metadata": {
    "id": "-v81hGhKe3qv"
   },
   "source": [
    "#Easy"
   ]
  },
  {
   "cell_type": "code",
   "execution_count": null,
   "metadata": {
    "id": "P8mJClese7KD"
   },
   "outputs": [],
   "source": [
    "#you may use this for decimal to hexadecimal mapping of 0-15\n",
    "\n",
    "    \n",
    "    \n",
    "def encoding(dec_number):\n",
    "    \n",
    "    if dec_number>9:\n",
    "        return chr(ord('A') + (dec_number - 10))\n",
    "    else:\n",
    "        return str(dec_number)\n",
    "\n",
    "\n",
    "def dec_to_hexa_recursive(num):\n",
    "    \n",
    "    if num<0:\n",
    "        num*=-1\n",
    "\n",
    "    if num == 0:\n",
    "        return \"0\"\n",
    "    \n",
    "    else:\n",
    "        \n",
    "        hex_value=num%16\n",
    "        remaining_value=num//16\n",
    "        \n",
    "        if remaining_value==0:\n",
    "            return encoding(hex_value)\n",
    "        \n",
    "        else:\n",
    "            return dec_to_hexa_recursive(remaining_value) + encoding(hex_value)\n",
    "\n",
    "\n",
    "#1\n",
    "print('Use of encoding function')\n",
    "print('=================')\n",
    "decimal_number = 7\n",
    "print(f'Hexadecimal Number: {encoding(decimal_number)}')\n",
    "decimal_number = 13\n",
    "print(f'Hexadecimal Number: {encoding(decimal_number)}')\n",
    "\n",
    "print('========1========')\n",
    "returned_value = dec_to_hexa_recursive(33)\n",
    "print(f'Hexadecimal Number: {returned_value}') # This should print 4CE\n",
    "unittest.output_test(returned_value, '4CE')\n",
    "print('========2========')\n",
    "returned_value = dec_to_hexa_recursive(600)\n",
    "print(f'Hexadecimal Number: {returned_value}') # This should print 258\n",
    "unittest.output_test(returned_value, '258')"
   ]
  },
  {
   "cell_type": "code",
   "execution_count": null,
   "metadata": {
    "id": "3cQ4WTupfJsf"
   },
   "outputs": [],
   "source": [
    "def compare_recursive(head, arr, idx=0):\n",
    "    \n",
    "    if idx==len(arr)-1 and head.next is None:\n",
    "        return head.elem==arr[idx]\n",
    "    \n",
    "    elif head.next is None or idx==len(arr)-1:\n",
    "        return False\n",
    "\n",
    "    \n",
    "    if head.elem!=arr[idx]:\n",
    "        return False\n",
    "\n",
    " \n",
    "    return compare_recursive(head.next,arr,idx+1)\n",
    "\n",
    "\n",
    "#2\n",
    "print('========1========')\n",
    "array = np.array([10, 11, 12, 13, 14])\n",
    "head =create_linked_list(np.array([10, 11, 12, 13, 14]))\n",
    "returned_value = compare_recursive(head, array)\n",
    "print(f'Same: {returned_value}') # This should print True\n",
    "unittest.output_test(returned_value, True)\n",
    "print('========2========')\n",
    "array = np.array([10, 11, 12, 13, 14])\n",
    "head = create_linked_list(np.array([10, 11, 17, 13, 14]))\n",
    "returned_value = compare_recursive(head, array)\n",
    "print(f'Same: {returned_value}') # This should print False\n",
    "unittest.output_test(returned_value, False)\n"
   ]
  },
  {
   "cell_type": "code",
   "execution_count": null,
   "metadata": {},
   "outputs": [],
   "source": [
    "def print_alphabets_recursive(head):\n",
    "    \n",
    "    vowels=['a','e','i','o','u']\n",
    "    \n",
    "    if head==None:\n",
    "        return None\n",
    "    \n",
    "    if head.elem in vowels:\n",
    "        print(head.elem,end=' ')\n",
    "        \n",
    "    print_alphabets_recursive(head.next)\n",
    "    \n",
    "    if head.elem not in vowels:\n",
    "         print(head.elem, end=' ')\n",
    "   \n",
    "    \n",
    "#3\n",
    "head = create_linked_list(np.array(['b', 'e', 'a', 'u','t', 'i','f', 'u', 'l']))\n",
    "print_alphabets_recursive(head) #This will print e a u i u l f t b"
   ]
  },
  {
   "cell_type": "markdown",
   "metadata": {
    "id": "CaRQ_tSTgkZI"
   },
   "source": [
    "#Medium"
   ]
  },
  {
   "cell_type": "code",
   "execution_count": null,
   "metadata": {
    "id": "KufwSw-_gnBO"
   },
   "outputs": [],
   "source": [
    "def hocBuilder(height):\n",
    "        if height==0:\n",
    "            return 0\n",
    "    \n",
    "        if height==1:\n",
    "            return 8\n",
    "        \n",
    "        else:\n",
    "            return 5+hocBuilder(height-1)\n",
    "        \n",
    "            \n",
    "#Design Driver Code by yourself\n",
    "print('=======1========')\n",
    "print(hocBuilder(0))\n",
    "print('=======2========')\n",
    "print(hocBuilder(1))\n",
    "print('=======3========')\n",
    "print(hocBuilder(3))\n",
    "      \n"
   ]
  },
  {
   "cell_type": "code",
   "execution_count": null,
   "metadata": {
    "id": "GsEHYQPHfQbY"
   },
   "outputs": [],
   "source": [
    "def max_recursive(arr,idx=0,maxx=float('-inf')):\n",
    "\n",
    "    temp=len(arr)\n",
    "    \n",
    "    \n",
    "    if idx==temp:\n",
    "        return maxx\n",
    "    \n",
    "    else:\n",
    "        if arr[idx]>maxx:\n",
    "            maxx=arr[idx]\n",
    "            \n",
    "        return max_recursive(arr,idx+1,maxx)\n",
    "\n",
    "\n",
    "\n",
    "#2\n",
    "print('========1========')\n",
    "array = np.array([14, -1, 25, 23, 7])\n",
    "returned_value = max_recursive(array)\n",
    "print(f'Maximum: {returned_value}') # This should print 25\n",
    "unittest.output_test(returned_value, 25)\n",
    "print('========2========')\n",
    "array = np.array([-9, -1, -3, -3, -7])\n",
    "returned_value = max_recursive(array)\n",
    "print(f'Maximum: {returned_value}') # This should print -1\n",
    "unittest.output_test(returned_value, -1)"
   ]
  },
  {
   "cell_type": "markdown",
   "metadata": {
    "id": "FJZjAYFwhhJE"
   },
   "source": [
    "#Hard"
   ]
  },
  {
   "cell_type": "code",
   "execution_count": 21,
   "metadata": {
    "colab": {
     "base_uri": "https://localhost:8080/"
    },
    "id": "4Xdjz5pUgr0K",
    "outputId": "c1f83342-f73f-43f0-b539-b74bd112d2da"
   },
   "outputs": [
    {
     "name": "stdout",
     "output_type": "stream",
     "text": [
      "========1========\n",
      "               1 \n",
      "             1 2 \n",
      "           1 2 3 \n",
      "         1 2 3 4 \n",
      "       1 2 3 4 5 \n",
      "     "
     ]
    }
   ],
   "source": [
    "def row(a,num):  \n",
    "    if num==0:  \n",
    "        return  \n",
    "    print(a, end=\" \")  \n",
    "    row(a + 1, num-1)  \n",
    "  \n",
    "  \n",
    "def print_pattern(n,it=n,a=1,num=1):  \n",
    "    \n",
    "    print(\"  \" * it,end=\" \")\n",
    "    if n == 0:  \n",
    "        return None\n",
    "    row(a, num)  \n",
    "    print()  \n",
    "    print_pattern(n-1,it-1,a,num+1,)  \n",
    "\n",
    "\n",
    "#1\n",
    "print('========1========')\n",
    "n = 5\n",
    "print_pattern(n)\n"
   ]
  },
  {
   "cell_type": "code",
   "execution_count": 13,
   "metadata": {},
   "outputs": [
    {
     "name": "stdout",
     "output_type": "stream",
     "text": [
      "========1========\n",
      "1 \n",
      "1 2 \n",
      "1 2 3 \n",
      "1 2 3 4 \n",
      "1 2 3 4 5 \n",
      "========2========\n",
      "1 \n",
      "1 2 \n",
      "1 2 3 \n",
      "1 2 3 4 \n",
      "1 2 3 4 5 \n",
      "1 2 3 4 5 6 \n",
      "1 2 3 4 5 6 7 \n"
     ]
    }
   ],
   "source": [
    "def row(a,num):  \n",
    "    if num==0:  \n",
    "        return  \n",
    "    print(a, end=\" \")  \n",
    "    row(a + 1, num-1)  \n",
    "  \n",
    "  \n",
    "def print_pattern(n,a=1,num=1):  \n",
    "    if n == 0:  \n",
    "        return None\n",
    "    row(a, num)  \n",
    "    print()  \n",
    "    print_pattern(n-1,a,num+1)  \n",
    "\n",
    "\n",
    "#1\n",
    "print('========1========')\n",
    "n = 5\n",
    "print_pattern(n)\n",
    "print('========2========')\n",
    "n = 7\n",
    "print_pattern(n)"
   ]
  },
  {
   "cell_type": "code",
   "execution_count": 11,
   "metadata": {
    "colab": {
     "base_uri": "https://localhost:8080/"
    },
    "id": "uvbbPe8xhe-r",
    "outputId": "c4bccbf7-2b40-46d7-af14-d7d0a0cd0cfa"
   },
   "outputs": [
    {
     "name": "stdout",
     "output_type": "stream",
     "text": [
      "========1========\n",
      "1 2 3 4 5 \n",
      "3 5 7 9 \n",
      "5 9 13 \n",
      "7 15 \n",
      "9 \n",
      "========2========\n",
      "1 2 3 4 5 6 \n",
      "3 5 7 9 11 \n",
      "5 9 13 17 \n",
      "7 15 23 \n",
      "9 25 \n",
      "11 \n"
     ]
    }
   ],
   "source": [
    "def printRow(rowSize,start,add):\n",
    "    if rowSize == 0:\n",
    "        return 0\n",
    "    print(start,end=\" \")\n",
    "    printRow(rowSize-1,start+add,add)\n",
    "\n",
    "\n",
    "\n",
    "def print_pattern_2(rowCount,firstNum=1,add=1):\n",
    "    if rowCount == 0:\n",
    "        return None\n",
    "\n",
    "    printRow(rowCount,firstNum,add)\n",
    "    print()\n",
    "    print_pattern_2(rowCount-1,firstNum+2,add*2)\n",
    "\n",
    "\n",
    "\n",
    "#2\n",
    "print('========1========')\n",
    "n = 5\n",
    "print_pattern_2(n)\n",
    "print('========2========')\n",
    "n = 6\n",
    "print_pattern_2(n)\n"
   ]
  },
  {
   "cell_type": "code",
   "execution_count": 23,
   "metadata": {},
   "outputs": [
    {
     "name": "stdout",
     "output_type": "stream",
     "text": [
      " 16 11 6 1 -4 1 6 11 16 \n",
      "    11 6 1 -4 1 6 11 \n",
      "       6 1 -4 1 6 \n",
      "          1 -4 1 \n",
      "             "
     ]
    }
   ],
   "source": [
    "def row(n,current,numN=0,reverse=False):\n",
    "    \n",
    "    if numN == 2:\n",
    "        return 0\n",
    "    \n",
    "    print(current, end=\" \")\n",
    "    \n",
    "    if current == n:\n",
    "        numN += 1\n",
    "  \n",
    "    if current <= 0:\n",
    "        reverse = True\n",
    "  \n",
    "    if reverse:\n",
    "        row(n,current+5,numN,reverse)\n",
    "    else:\n",
    "        row(n,current-5,numN)\n",
    "\n",
    "        \n",
    "def pattern(n,iteration=0):\n",
    "    \n",
    "    print(\"   \" * iteration,end=\" \") \n",
    "    \n",
    "    if n<=0:\n",
    "        return None\n",
    "    \n",
    "    row(n,n)\n",
    "    print()\n",
    "    pattern(n-5,iteration+1)\n",
    "\n",
    "pattern(16)"
   ]
  },
  {
   "cell_type": "markdown",
   "metadata": {
    "id": "v-CxHGqZm9WB"
   },
   "source": [
    "#Very Hard"
   ]
  },
  {
   "cell_type": "code",
   "execution_count": null,
   "metadata": {
    "id": "RKQnhkyOjwQ2"
   },
   "outputs": [],
   "source": [
    "def flattenList(inputt,output):\n",
    "    \n",
    "    temp=len(inputt)\n",
    "    \n",
    "    if temp==0:\n",
    "        return output\n",
    "    \n",
    "    elif type(inputt[0])==list:\n",
    "        flattenList(inputt[0],output)\n",
    "        \n",
    "    else:\n",
    "        output.append(inputt[0])\n",
    "        \n",
    "\n",
    "    return flattenList(inputt[1:],output)\n",
    "\n",
    "given_list = [1, [2, [3, [4], 5], 6], 7, 8, [9, [[10, 11], 12], 13], 14, [15, [16, [17]]]]\n",
    "output_list = flattenList(given_list, []) # Initial empty list is sent for update\n",
    "print(output_list)\n",
    "#output_list = [1, 2, 3, 4, 5, 6, 7, 8, 9, 10, 11, 12, 13, 14, 15, 16, 17]"
   ]
  },
  {
   "cell_type": "code",
   "execution_count": 5,
   "metadata": {},
   "outputs": [
    {
     "name": "stdout",
     "output_type": "stream",
     "text": [
      "654None\n"
     ]
    }
   ],
   "source": [
    "def func(n):\n",
    "    if n>6:\n",
    "        return \n",
    "    \n",
    "    else:\n",
    "        func(n+1)\n",
    "        print(n,end='')\n",
    "        return\n",
    "    \n",
    "print(func(4))"
   ]
  },
  {
   "cell_type": "code",
   "execution_count": 1,
   "metadata": {},
   "outputs": [
    {
     "name": "stdout",
     "output_type": "stream",
     "text": [
      "(abc)\n",
      "(hello)\n",
      "(xy)\n"
     ]
    }
   ],
   "source": [
    "def parenBit(stri, add = False):\n",
    "    if stri == \"\":\n",
    "        return \"\"\n",
    "    \n",
    "    if stri[0] == \"(\":\n",
    "        add = True\n",
    "        \n",
    "    if stri[0] == \")\":\n",
    "        add = False\n",
    "    \n",
    "    result = parenBit(stri[1:], add)\n",
    "    \n",
    "    if add == True or stri[0] == \")\":\n",
    "        return stri[0] + result\n",
    "    \n",
    "    return result\n",
    "        \n",
    "        \n",
    "print(parenBit(\"xyz(abc)123\"))\n",
    "print(parenBit(\"x(hello)\"))\n",
    "print(parenBit(\"(xy)1\"))\n",
    "\n",
    "\n"
   ]
  },
  {
   "cell_type": "code",
   "execution_count": 3,
   "metadata": {},
   "outputs": [
    {
     "name": "stdout",
     "output_type": "stream",
     "text": [
      "codey\n",
      "yyhiyy\n",
      "yhiyhiy\n"
     ]
    }
   ],
   "source": [
    "def changeXY(stri):\n",
    "    if stri == \"\":\n",
    "        return \"\"\n",
    "    \n",
    "    let = stri[0]\n",
    "    if let == \"x\":\n",
    "        let = \"y\"\n",
    "    \n",
    "    return let + changeXY(stri[1:])\n",
    "\n",
    "print(changeXY(\"codex\"))\n",
    "print(changeXY(\"xxhixx\"))\n",
    "print(changeXY(\"xhixhix\"))"
   ]
  },
  {
   "cell_type": "code",
   "execution_count": 1,
   "metadata": {},
   "outputs": [
    {
     "name": "stdout",
     "output_type": "stream",
     "text": [
      "yza\n",
      "abcd\n",
      "Helo\n"
     ]
    }
   ],
   "source": [
    "\n",
    "def stringCheck(stri, charc):\n",
    "    if stri == \"\":\n",
    "        return True\n",
    "    \n",
    "    if stri[0] == charc:\n",
    "        return False\n",
    "    \n",
    "    return stringCheck(stri[1:], charc)\n",
    "\n",
    "def stringClean(stri):\n",
    "    if stri == \"\":\n",
    "        return \"\"\n",
    "    \n",
    "    result = stringClean(stri[1:])\n",
    "    \n",
    "    check = stringCheck(result, stri[0])\n",
    "    \n",
    "    if check:\n",
    "        return stri[0] + result\n",
    "    return result\n",
    "\n",
    "print(stringClean(\"yyzzza\"))\n",
    "print(stringClean(\"abbbcdd\"))\n",
    "print(stringClean(\"Hello\"))"
   ]
  },
  {
   "cell_type": "code",
   "execution_count": null,
   "metadata": {},
   "outputs": [],
   "source": []
  }
 ],
 "metadata": {
  "colab": {
   "provenance": []
  },
  "kernelspec": {
   "display_name": "Python 3 (ipykernel)",
   "language": "python",
   "name": "python3"
  },
  "language_info": {
   "codemirror_mode": {
    "name": "ipython",
    "version": 3
   },
   "file_extension": ".py",
   "mimetype": "text/x-python",
   "name": "python",
   "nbconvert_exporter": "python",
   "pygments_lexer": "ipython3",
   "version": "3.10.12"
  }
 },
 "nbformat": 4,
 "nbformat_minor": 1
}
