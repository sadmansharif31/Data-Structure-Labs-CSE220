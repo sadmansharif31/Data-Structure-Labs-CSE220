{
 "cells": [
  {
   "cell_type": "code",
   "execution_count": 1,
   "id": "6a4b4bc6",
   "metadata": {},
   "outputs": [
    {
     "name": "stdout",
     "output_type": "stream",
     "text": [
      "group: 60 120\n",
      "group: 150 30\n",
      "ungrouped: 60 30 "
     ]
    }
   ],
   "source": [
    "def findGroups (money, fare):\n",
    "    \n",
    "    for i in range(len(money)):\n",
    "        taka=0\n",
    "        \n",
    "        if money[i]==fare:\n",
    "            print(\"group:\",money[i])\n",
    "        for j in range(len(money)-1):\n",
    "        \n",
    "            if i!=j:\n",
    "                taka=money[j]+money[i]\n",
    "                \n",
    "                if taka==fare:\n",
    "                    print(\"group:\",money[i],money[j])\n",
    "                    money[i],money[j]=0,0\n",
    "                    \n",
    "    print('ungrouped: ',end='')            \n",
    "    for i in range(len(money)):\n",
    "        if money[i]!=0:\n",
    "            print(money[i], end=' ')\n",
    "\n",
    "\n",
    "\n",
    "findGroups ( [60, 150, 60, 30, 120, 30], 180 )\n"
   ]
  },
  {
   "cell_type": "code",
   "execution_count": null,
   "id": "9e897325",
   "metadata": {},
   "outputs": [],
   "source": []
  }
 ],
 "metadata": {
  "kernelspec": {
   "display_name": "Python 3 (ipykernel)",
   "language": "python",
   "name": "python3"
  },
  "language_info": {
   "codemirror_mode": {
    "name": "ipython",
    "version": 3
   },
   "file_extension": ".py",
   "mimetype": "text/x-python",
   "name": "python",
   "nbconvert_exporter": "python",
   "pygments_lexer": "ipython3",
   "version": "3.10.12"
  }
 },
 "nbformat": 4,
 "nbformat_minor": 5
}
