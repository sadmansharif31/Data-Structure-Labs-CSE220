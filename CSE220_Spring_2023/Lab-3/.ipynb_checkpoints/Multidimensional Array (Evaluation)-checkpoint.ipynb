{
 "cells": [
  {
   "cell_type": "code",
   "execution_count": 25,
   "id": "3cf7c6a7",
   "metadata": {},
   "outputs": [
    {
     "name": "stdout",
     "output_type": "stream",
     "text": [
      "team won\n",
      "14\n"
     ]
    }
   ],
   "source": [
    "import numpy as np\n",
    "\n",
    "def points(temp):\n",
    "    r,c=temp.shape\n",
    "    count=0\n",
    "    for i in range(r):\n",
    "        for j in range(c):\n",
    "            if temp[i][j]>2:\n",
    "                if 0<=i-1<r:\n",
    "                    if temp[i-1][j]==2:\n",
    "                        count+=1\n",
    "                if 0<=j-1<c:\n",
    "                    if temp[i][j-1]==2:\n",
    "                        count+=1\n",
    "                if 0<=i+1<r:\n",
    "                    if temp[i+1][j]==2:\n",
    "                        count+=1\n",
    "                if 0<=j+1<c:\n",
    "                    if temp[i][j+1]==2:\n",
    "                        count+=1 \n",
    "    if (count*2)>10:\n",
    "        print('team won')\n",
    "    else:\n",
    "        print('lost')\n",
    "    return (count*2)\n",
    "ola=np.array([[0,2,2,0,2],[1,50,2,1,100],[2,2,2,0,2],[0,200,2,0,0]])\n",
    "print(points(ola))\n"
   ]
  }
 ],
 "metadata": {
  "kernelspec": {
   "display_name": "Python 3 (ipykernel)",
   "language": "python",
   "name": "python3"
  },
  "language_info": {
   "codemirror_mode": {
    "name": "ipython",
    "version": 3
   },
   "file_extension": ".py",
   "mimetype": "text/x-python",
   "name": "python",
   "nbconvert_exporter": "python",
   "pygments_lexer": "ipython3",
   "version": "3.10.12"
  }
 },
 "nbformat": 4,
 "nbformat_minor": 5
}
