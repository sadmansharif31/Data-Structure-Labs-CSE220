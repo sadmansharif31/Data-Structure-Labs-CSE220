{
 "cells": [
  {
   "cell_type": "code",
   "execution_count": 44,
   "metadata": {},
   "outputs": [],
   "source": [
    "# Linear Array"
   ]
  },
  {
   "cell_type": "code",
   "execution_count": 2,
   "metadata": {},
   "outputs": [
    {
     "name": "stdout",
     "output_type": "stream",
     "text": [
      "[40, 50, 60, 0, 0, 0]\n"
     ]
    }
   ],
   "source": [
    "# (Task-1) Shift left K Cells\n",
    "\n",
    "def shiftLeft(source, k):\n",
    "    i=0\n",
    "    j=len(source)-1\n",
    "    while i+k<=j:\n",
    "        source[i]=source[i+k]\n",
    "        i=i+1\n",
    "\n",
    "    i=len(source)-1\n",
    "    while i>j-k:\n",
    "        source[i]=0\n",
    "        i=i-1\n",
    "    return source\n",
    "\n",
    "\n",
    "input_list =[10, 20, 30, 40, 50, 60]\n",
    "shiftedList=shiftLeft(input_list, 3)\n",
    "print(shiftedList)"
   ]
  },
  {
   "cell_type": "code",
   "execution_count": 1,
   "metadata": {},
   "outputs": [
    {
     "name": "stdout",
     "output_type": "stream",
     "text": [
      "[40, 50, 60, 0, 0, 0]\n"
     ]
    }
   ],
   "source": [
    "# (Task1) Alternate\n",
    "\n",
    "def shiftLeft(source,k):\n",
    "    j=0\n",
    "    while j<k:\n",
    "        i = 1\n",
    "        while i<len(source):\n",
    "            source[i-1] = source[i]\n",
    "            i+=1\n",
    "        source[-1] = 0\n",
    "        j+=1\n",
    "    \n",
    "    return source\n",
    "\n",
    "source=[10,20,30,40,50,60]\n",
    "print(shiftLeft(source,3))"
   ]
  },
  {
   "cell_type": "code",
   "execution_count": 3,
   "metadata": {},
   "outputs": [
    {
     "name": "stdout",
     "output_type": "stream",
     "text": [
      "[40, 50, 60, 10, 20, 30]\n"
     ]
    }
   ],
   "source": [
    "# (Task-2) Rotate Left K Cells\n",
    "\n",
    "def rotateLeft(source,k):\n",
    "    count=0\n",
    "    while count<k:\n",
    "        temp=source[0]\n",
    "        i=1\n",
    "        while i<len(source):\n",
    "            \n",
    "            source[i-1]=source[i]\n",
    "            i=i+1\n",
    "        source[-1]=temp\n",
    "        count=count+1\n",
    "     \n",
    "    \n",
    "source=[10,20,30,40,50,60]\n",
    "rotateLeft(source,3)\n",
    "print(source)"
   ]
  },
  {
   "cell_type": "code",
   "execution_count": 22,
   "metadata": {},
   "outputs": [
    {
     "name": "stdout",
     "output_type": "stream",
     "text": [
      "[10, 20, 40, 50, 0, 0, 0]\n"
     ]
    }
   ],
   "source": [
    "# (Task-3) Remove an element from array\n",
    "\n",
    "def remove(source,size,idx):\n",
    "    if idx<0 or idx>size:\n",
    "        return 'wrong index'\n",
    "    i = idx\n",
    "    while i<size:\n",
    "        source[i]=source[i+1]\n",
    "        i+=1\n",
    "        source[-1] = 0\n",
    "    return (source)\n",
    "    \n",
    "\n",
    "source=[10,20,30,40,50,0,0]\n",
    "print(remove(source,5,2))"
   ]
  },
  {
   "cell_type": "code",
   "execution_count": 23,
   "metadata": {},
   "outputs": [
    {
     "name": "stdout",
     "output_type": "stream",
     "text": [
      "[10, 30, 50, 0, 0, 0, 0, 0, 0]\n"
     ]
    }
   ],
   "source": [
    "# (Task-4) Remove all occurrences of a particular element from an array\n",
    "\n",
    "def removeAll(source,size,element):\n",
    "    my_list=[]\n",
    "    for i in source:\n",
    "        if i!=element:\n",
    "            my_list.append(i)\n",
    "            \n",
    "    x=len(my_list)-1\n",
    "    \n",
    "    for i in range(x):\n",
    "        my_list.append(0)\n",
    "        \n",
    "    return(my_list)      \n",
    "    \n",
    "source=[10,2,30,2,50,2,2,0,0]\n",
    "a=removeAll(source,7,2)\n",
    "print(a)"
   ]
  },
  {
   "cell_type": "code",
   "execution_count": 2,
   "metadata": {},
   "outputs": [
    {
     "name": "stdout",
     "output_type": "stream",
     "text": [
      "true\n"
     ]
    }
   ],
   "source": [
    "# (Task-5) Splitting an Array\n",
    "\n",
    "def split(array):\n",
    "    count=0\n",
    "    j=0\n",
    "    for i in array:\n",
    "        count+=i\n",
    "    my_list=[]\n",
    "    \n",
    "    while len(array)>j:\n",
    "        my_list.append(array[j])\n",
    "        j+=1\n",
    "        if (count/2)==sum(my_list):\n",
    "            return (\"true\")   \n",
    "        \n",
    "    return \"false\"  \n",
    "\n",
    "array = [1,1,1,1,2]\n",
    "a=split(array)\n",
    "print(a)"
   ]
  },
  {
   "cell_type": "code",
   "execution_count": 5,
   "metadata": {},
   "outputs": [
    {
     "name": "stdout",
     "output_type": "stream",
     "text": [
      "0, 0, 0, 1,  0, 0, 2, 1,  0, 3, 2, 1,  4, 3, 2, 1,  "
     ]
    }
   ],
   "source": [
    "# (Task-6) Array series\n",
    "\n",
    "def Square(n):\n",
    "    \n",
    "    array = []\n",
    "    i = 1\n",
    "    while i <= n:\n",
    "        temp = 1\n",
    "        \n",
    "        while temp <= n - i:\n",
    "            array.append(0)\n",
    "            temp = temp + 1\n",
    "            \n",
    "        temp = i\n",
    "        \n",
    "        while temp > 0:\n",
    "            array.append(temp)\n",
    "            temp = temp - 1\n",
    "        i = i + 1\n",
    "        \n",
    "    count=1\n",
    "    while count<=len(array):\n",
    "        \n",
    "        if count%n==0:\n",
    "            print(array[count-1],end=\",  \")\n",
    "            \n",
    "        elif len(array)==count:\n",
    "            print(array[count-1],end=\"  \")\n",
    "        \n",
    "        else:\n",
    "            print(array[count-1],end=\", \")\n",
    "            \n",
    "        \n",
    "        count+=1   \n",
    "        \n",
    "Square(4)\n"
   ]
  },
  {
   "cell_type": "code",
   "execution_count": 10,
   "metadata": {},
   "outputs": [
    {
     "name": "stdout",
     "output_type": "stream",
     "text": [
      "0, 0, 0, 1,  0, 0, 2, 1,  0, 3, 2, 1,  4, 3, 2, 1 "
     ]
    }
   ],
   "source": [
    "# (Task6) Alternate\n",
    "\n",
    "def series(n):\n",
    "    l = []\n",
    "    for i in range(1,n+1):\n",
    "        for k in range(n-i):\n",
    "            l+=[0]\n",
    "        for k in range(i,0,-1):\n",
    "            l+=[k]\n",
    "    i=1\n",
    "    while i<=len(l):\n",
    "        \n",
    "        if i==len(l):\n",
    "            print(l[i-1],end=\" \")\n",
    "            \n",
    "        elif i%n==0:\n",
    "            print(l[i-1],end=\",  \")\n",
    "            \n",
    "        else:\n",
    "            print(l[i-1],end=\", \")\n",
    "            \n",
    "        i+=1\n",
    "        \n",
    "    return \n",
    "    \n",
    "series(4)"
   ]
  },
  {
   "cell_type": "code",
   "execution_count": 6,
   "metadata": {},
   "outputs": [
    {
     "name": "stdout",
     "output_type": "stream",
     "text": [
      "4\n"
     ]
    }
   ],
   "source": [
    "# (Task-7) Max Bunch Count\n",
    "\n",
    "def maximum(lisst):\n",
    "    present=[]\n",
    "    previous=[]\n",
    "\n",
    "    for k in lisst:  \n",
    "        if k!=lisst[0]:\n",
    "            if len(present)>len(previous):\n",
    "                previous=present\n",
    "            present=[]\n",
    "            present.append(k)\n",
    "            lisst[0]=k\n",
    "            \n",
    "            \n",
    "        elif k==lisst[0]:\n",
    "            present.append(k)\n",
    "      \n",
    "        \n",
    "    if len(present)>len(previous):\n",
    "        previous=present\n",
    "        \n",
    "    return str((len(previous)))\n",
    "\n",
    "\n",
    "lisst =[1,2,2,3,4,4,4,4,1,4,4,4,4,1,4]\n",
    "print(maximum(lisst))"
   ]
  },
  {
   "cell_type": "code",
   "execution_count": 8,
   "metadata": {},
   "outputs": [
    {
     "name": "stdout",
     "output_type": "stream",
     "text": [
      "False\n"
     ]
    }
   ],
   "source": [
    "# (Task-8) Repetition\n",
    "\n",
    "def repetition(source):\n",
    "    \n",
    "    l_1=[]  \n",
    "    \n",
    "    for i in source:\n",
    "        if i not in l_1:\n",
    "            l_1.append(i)\n",
    "    count={}\n",
    "    \n",
    "    for i in l_1:\n",
    "        if i not in count:\n",
    "            count[i]=[]  \n",
    "    for j in count.keys():\n",
    "        for d in source:\n",
    "            if j==d:\n",
    "                count[j].append('a')\n",
    "    s=[]        \n",
    "    for y in count.values():\n",
    "        if len(y)>1:\n",
    "            s.append(len(y))\n",
    "    q=[]\n",
    "    for i in s:\n",
    "        if i not in q:\n",
    "            q.append(i)\n",
    "    if len(q)<len(s):\n",
    "        print('True')\n",
    "    elif len(q)==len(s):\n",
    "        print('False')\n",
    "            \n",
    "        \n",
    "repetition([3,4,6,3,4,7,4,6,8,6,6])\n"
   ]
  },
  {
   "cell_type": "code",
   "execution_count": null,
   "metadata": {},
   "outputs": [],
   "source": [
    "# Circular Array"
   ]
  },
  {
   "cell_type": "code",
   "execution_count": 9,
   "metadata": {},
   "outputs": [
    {
     "name": "stdout",
     "output_type": "stream",
     "text": [
      "True\n"
     ]
    }
   ],
   "source": [
    "# (Task-1) Palindrome\n",
    "\n",
    "def Palindrome(source,start,size):\n",
    "    count1=size-1 \n",
    "    count2=0\n",
    "    i=0\n",
    "    lisst=size*[0]\n",
    "    \n",
    "    while i<=count1:\n",
    "        lisst[i]=source[start]\n",
    "        start=(start+1)%len(source)\n",
    "        i+=1\n",
    "        \n",
    "    while count1>=count2:\n",
    "        if lisst[count1]==lisst[count2]:\n",
    "            count2+=1\n",
    "            count1-=1\n",
    "            return 'True'\n",
    "        else:\n",
    "            return 'False'\n",
    "\n",
    "a=[20,10,0,0,0,10,20,30]\n",
    "print(Palindrome(a,5,5))"
   ]
  },
  {
   "cell_type": "code",
   "execution_count": 35,
   "metadata": {},
   "outputs": [
    {
     "name": "stdout",
     "output_type": "stream",
     "text": [
      "[10, 20, 40]\n"
     ]
    }
   ],
   "source": [
    "# (Task-2) Intersection\n",
    "\n",
    "def circular(a_1,start_1,size_1,a_2,start_2,size_2):\n",
    "    k=0\n",
    "    my_list=[]\n",
    "    count=size_1-1\n",
    "    \n",
    "    while k<=count:\n",
    "        if a_1[start_1] in a_2:\n",
    "            my_list.append(a_1[start_1])\n",
    "        start_1=(start_1+1)%len(a_1)\n",
    "        k+=1  \n",
    "    return my_list\n",
    "\n",
    "a_1=[40,50,0,0,0,10,20,30]\n",
    "a_2=[10,20,5,0,0,0,0,0,5,40,15,25]\n",
    "\n",
    "print(circular(a_1,5,5,a_2,8,7))"
   ]
  },
  {
   "cell_type": "code",
   "execution_count": 8,
   "metadata": {},
   "outputs": [
    {
     "name": "stdout",
     "output_type": "stream",
     "text": [
      "['3rd', '4th', '5th', 0, '7th', '1st', '2nd']\n",
      "['7th', '1st', '2nd', 0, '4th', '5th', 0]\n",
      "[0, '4th', 0, 0, '7th', '1st', '2nd']\n",
      "[0, 0, 0, '1st', '2nd', 0, '4th']\n",
      "['1st', 0, 0, '4th', 0, 0, 0]\n",
      "[0, 0, 0, 0, 0, '1st', 0]\n"
     ]
    }
   ],
   "source": [
    "# (Task-3) \n",
    "\n",
    "import random\n",
    "\n",
    "def game(source,size):\n",
    "    while size>1: \n",
    "        k=len(source)-1\n",
    "        \n",
    "        if random.randint(0,3)==1:\n",
    "            if source[size//2]!=0:\n",
    "                source[size//2]=0\n",
    "                size=size-1\n",
    "                print(a)\n",
    "        \n",
    "        else:\n",
    "            while k>0:\n",
    "                store=source[k]\n",
    "                source[k]=source[k-1]\n",
    "                source[k-1]=store\n",
    "                k=k-1\n",
    "            k=0  \n",
    "\n",
    "a=[\"1st\",\"2nd\",\"3rd\",\"4th\",\"5th\",\"6th\",\"7th\"]\n",
    "\n",
    "game(a,7)"
   ]
  },
  {
   "cell_type": "code",
   "execution_count": 1,
   "metadata": {},
   "outputs": [
    {
     "name": "stdout",
     "output_type": "stream",
     "text": [
      "[0, 0, 2, 6, 3, 4, 5, 6, 7, 2, 0, 0]\n"
     ]
    }
   ],
   "source": [
    "\n",
    "def Interval(arr, s, str, inte):\n",
    "    for i in range(str - 1, s + 2, inte):\n",
    "\n",
    "        if arr[i] % 2 != 0:\n",
    "            arr[i] += 1\n",
    "            #print(arr[i])\n",
    "            \n",
    "    print(arr)\n",
    "\n",
    "arr = [0, 0, 2, 5, 3, 3, 5, 6, 7, 1, 0, 0]\n",
    "\n",
    "Interval(arr, 8, 2, 2)"
   ]
  },
  {
   "cell_type": "code",
   "execution_count": null,
   "metadata": {},
   "outputs": [],
   "source": []
  }
 ],
 "metadata": {
  "kernelspec": {
   "display_name": "Python 3",
   "language": "python",
   "name": "python3"
  },
  "language_info": {
   "codemirror_mode": {
    "name": "ipython",
    "version": 3
   },
   "file_extension": ".py",
   "mimetype": "text/x-python",
   "name": "python",
   "nbconvert_exporter": "python",
   "pygments_lexer": "ipython3",
   "version": "3.8.5"
  }
 },
 "nbformat": 4,
 "nbformat_minor": 4
}
