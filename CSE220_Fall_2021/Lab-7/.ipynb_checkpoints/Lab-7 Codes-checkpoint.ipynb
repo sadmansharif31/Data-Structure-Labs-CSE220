{
 "cells": [
  {
   "cell_type": "code",
   "execution_count": 12,
   "metadata": {},
   "outputs": [
    {
     "name": "stdout",
     "output_type": "stream",
     "text": [
      "Here -1 is found: True\n",
      "-8=> -4=> -1=> 11=> 19=> 31=> 32=> \n",
      "Here 90 is not found: False\n",
      "1=> 2=> 3=> 5=> 7=> 8=> 9=> "
     ]
    }
   ],
   "source": [
    "# Task-1\n",
    "\n",
    "class KeyIndex:\n",
    "    econ=0\n",
    "    k=[]\n",
    "    def __init__(self,a):\n",
    "\n",
    "        low=a[0]\n",
    "        high=0\n",
    "        p=len(a)\n",
    "        n=1\n",
    "        ev=[0]    \n",
    "        while n<p:\n",
    "            if low>a[n]:\n",
    "                low=a[n]\n",
    "            n+=1\n",
    "        if 0>low:\n",
    "            j=0\n",
    "            self.econ=(-1)*low\n",
    "            while j<p:\n",
    "                a[j]+=self.econ\n",
    "                j+=1\n",
    "        for elm in a:\n",
    "            if high<elm:\n",
    "                high=elm\n",
    "            \n",
    "        self.k=(high+1)*ev\n",
    "        for elm_2 in a:\n",
    "            self.k[elm_2]+=1\n",
    "        \n",
    "            \n",
    "    def sortion(self):\n",
    "        pq=len(self.k)\n",
    "        for elm_1 in range(0,pq):\n",
    "            for elm_2 in range(0,self.k[elm_1]):\n",
    "                temp=(elm_1-self.econ)\n",
    "                print(temp,end='=> ')      \n",
    "                \n",
    "    def value(self,val):\n",
    "        le=len(self.k)\n",
    "        temp=self.econ+val\n",
    "        \n",
    "        if 0<=temp<le and self.k[temp]!=0:\n",
    "            return 'Here '+str(val)+' is found: True'\n",
    "        \n",
    "        elif 0<temp or self.k[temp]==0:\n",
    "            return 'Here '+str(val)+' is not found: False'\n",
    "        \n",
    "        \n",
    "#=======================================Tester==========================================\n",
    "        \n",
    "op=KeyIndex([31,-8,-4,-1,32,11,19])\n",
    "print(op.value(-1))\n",
    "op.sortion()\n",
    "\n",
    "print()\n",
    "\n",
    "ot=KeyIndex([7,3,5,1,2,8,9])\n",
    "print(ot.value(90))\n",
    "ot.sortion()\n",
    "\n"
   ]
  },
  {
   "cell_type": "code",
   "execution_count": 2,
   "metadata": {},
   "outputs": [
    {
     "name": "stdout",
     "output_type": "stream",
     "text": [
      "[0, 0, 0, 0, 'ST1E89B8A32', 0, 0, 0, 0]\n"
     ]
    }
   ],
   "source": [
    "#Task-2\n",
    "\n",
    "cons=['B','C','D','F','G','H','J','K','L','M','N','P','Q','R','S','T','V','X','Z','W','Y']\n",
    "num=['0','1','2','3','4','5','6','7','8','9']\n",
    "stri=[\"ST1E89B8A32\"]\n",
    "li=len(stri)\n",
    "times=[0]*9\n",
    "elm_1=0\n",
    "\n",
    "while elm_1<li:\n",
    "\n",
    "    add=0\n",
    "    con=0\n",
    "    for elm_2 in stri[elm_1]: \n",
    "        \n",
    "        if elm_2 in num:\n",
    "            add+=int(elm_2)\n",
    "        elif elm_2 in cons:                                \n",
    "            con+=1\n",
    "                                                              \n",
    "    ans=((con*24)+add)%9  \n",
    "    \n",
    "    if times[ans]!=0:\n",
    "        for i in range(li):                                                  \n",
    "            ans=(ans+1)%9 \n",
    "    else:                                  \n",
    "        times[ans]=stri[elm_1]\n",
    "\n",
    "    elm_1+=1\n",
    "\n",
    "print(times)"
   ]
  },
  {
   "cell_type": "code",
   "execution_count": 4,
   "metadata": {},
   "outputs": [
    {
     "name": "stdout",
     "output_type": "stream",
     "text": [
      "[-63, -45, -34, -23, -12, -3, 3, 6, 7, 12, 56, 100, 113]\n"
     ]
    }
   ],
   "source": [
    "def bubble_sort(a):\n",
    "\n",
    "    for i in range(len(a)-1,-1,-1):\n",
    "\n",
    "        for j in range(0,i):\n",
    "\n",
    "            if a[j]>a[j+1]:\n",
    "\n",
    "                temp = a[j]\n",
    "\n",
    "                a[j]=a[j+1]\n",
    "\n",
    "                a[j+1]=temp\n",
    "                \n",
    "Listt=[-34,6,7,3,-3,56,12,-23,100,-12,-63,113,-45]\n",
    "bubble_sort(Listt)\n",
    "print(Listt)"
   ]
  },
  {
   "cell_type": "code",
   "execution_count": 6,
   "metadata": {},
   "outputs": [
    {
     "name": "stdout",
     "output_type": "stream",
     "text": [
      "[-63, -45, -34, -23, -12, -3, 3, 6, 7, 12, 56, 100, 113]\n"
     ]
    }
   ],
   "source": [
    "def selection_sort(A):\n",
    "\n",
    "    max_idx = 0\n",
    "\n",
    "    max = A[0]\n",
    "\n",
    "    for i in range(len(A)-1,-1,-1):\n",
    "\n",
    "        max = A[i]\n",
    "\n",
    "        max_idx = i\n",
    "\n",
    "    #finding the maximum value\n",
    "\n",
    "        for j in range(0,i):\n",
    "\n",
    "            if(A[j]>max):\n",
    "\n",
    "                max = A[j]\n",
    "\n",
    "                max_idx = j\n",
    "\n",
    "    #swapping\n",
    "\n",
    "        temp = A[max_idx]\n",
    "\n",
    "        A[max_idx]=A[i]\n",
    "\n",
    "        A[i]=temp\n",
    "        \n",
    "Listt=[-34,6,7,3,-3,56,12,-23,100,-12,-63,113,-45]\n",
    "selection_sort(Listt)\n",
    "print(Listt)"
   ]
  },
  {
   "cell_type": "code",
   "execution_count": 7,
   "metadata": {},
   "outputs": [
    {
     "name": "stdout",
     "output_type": "stream",
     "text": [
      "[-63, -45, -34, -23, -12, -3, 3, 6, 7, 12, 56, 100, 113]\n"
     ]
    }
   ],
   "source": [
    "def insertion_sort(A):\n",
    "\n",
    "    for i in range(0,len(A)):\n",
    "\n",
    "        for j in range(i-1,-1,-1):\n",
    "\n",
    "            if(A[j]>A[j+1]):\n",
    "\n",
    "                temp = A[j]\n",
    "\n",
    "                A[j]=A[j+1]\n",
    "\n",
    "                A[j+1]=temp\n",
    "\n",
    "            else:\n",
    "\n",
    "                break\n",
    "            \n",
    "Listt=[-34,6,7,3,-3,56,12,-23,100,-12,-63,113,-45]\n",
    "insertion_sort(Listt)\n",
    "print(Listt)"
   ]
  },
  {
   "cell_type": "code",
   "execution_count": 3,
   "metadata": {},
   "outputs": [
    {
     "name": "stdout",
     "output_type": "stream",
     "text": [
      "[0, 10, 3, 4, 31, 5, 8, 70, 0, 0]\n"
     ]
    }
   ],
   "source": [
    "def checkInterval(a,size,start,interval):\n",
    "    for elm in range(start-1,size+2,interval):\n",
    "        if lst[elm]%2!=0:\n",
    "            lst[elm]+=1\n",
    "    print(lst)\n",
    "    \n",
    "lst=[0,10,3,3,31,5,8,70,0,0]\n",
    "checkInterval(lst,7,1,3)"
   ]
  },
  {
   "cell_type": "code",
   "execution_count": null,
   "metadata": {},
   "outputs": [],
   "source": [
    "Implement the design of the Student and Lawyer class derived from Person \n",
    "class so that the following code generates the output below:\n",
    "\n",
    "class Person:\n",
    "   def init(self, name, contact):\n",
    "     self.name = name\n",
    "     self.contact = contact\n",
    "\n",
    "   def str(self):\n",
    "     s = f\"Name: {self.name}\\nContact: {self.contact}\"\n",
    "     return s\n",
    "#Write your code here\n",
    "\n",
    "john_cena = Student(\"John Cena\", \"9752325\", 100005, \"CSE\")\n",
    "john_cena.add_courses(\"CSE111 Programming Language II\", \"CSE230 Discrete \n",
    "Mathematics\", \"EEE101 Electrical Circuits 1\")\n",
    "print(\"1.=========================================================\")\n",
    "print(john_cena)\n",
    "print(\"2.=========================================================\")\n",
    "john_cena.show_course_list(\"CSE\")\n",
    "print(\"3.=========================================================\")\n",
    "john_cena.show_course_list(\"ECE\")\n",
    "print(\"4.=========================================================\")\n",
    "john_cena.add_courses(\"ARC101 Design I: Basic Design\")\n",
    "print(\"5.=========================================================\")\n",
    "print(john_cena)\n",
    "print(\"6.=========================================================\")\n",
    "saul_goodman = Lawyer(\"Saul Goodman\", \"5885858\", \"Dhaka\")\n",
    "saul_goodman.add_client(\"Jesse Pinkman Criminal\", \"Walter White \n",
    "Criminal\", \"John Cena Civil\", \"Naruto Uzumaki Civil\")\n",
    "print(\"7.=========================================================\")\n",
    "print(saul_goodman)\n",
    "#\n",
    "#\n",
    "#\n",
    "#\n",
    "OUTPUT:\n",
    "1.=========================================================\n",
    "Student Details:\n",
    "Name: John Cena\n",
    "Contact: 9752325\n",
    "ID: 100005\n",
    "Department: CSE\n",
    "Courses List:\n",
    "{'CSE': ['CSE111 Programming Language II', 'CSE230 Discrete \n",
    "Mathematics'], 'EEE': ['EEE101 Electrical Circuits 1']}\n",
    "2.=========================================================\n",
    "Courses from CSE department:\n",
    "CSE111 Programming Language II\n",
    "CSE230 Discrete Mathematics\n",
    "3.=========================================================\n",
    "John Cena did not take any course from ECE department\n",
    "4.=========================================================\n",
    "5.=========================================================\n",
    "Student Details:\n",
    "Name: John Cena\n",
    "Contact: 9752325\n",
    "ID: 100005\n",
    "Department: CSE\n",
    "Courses List:\n",
    "{'CSE': ['CSE111 Programming Language II', 'CSE230 Discrete \n",
    "Mathematics'], 'EEE': ['EEE101 Electrical Circuits 1'], 'ARC': ['ARC101 \n",
    "Design I: Basic Design']}\n",
    "6.=========================================================\n",
    "7.=========================================================\n",
    "Lawyer Details:\n",
    "Name: Saul Goodman\n",
    "Contact: 5885858\n",
    "Area: Dhaka\n",
    "Client List: {'Criminal': ['Jesse Pinkman Criminal', 'Walter White \n",
    "Criminal'], 'Civil': ['John Cena Civil', 'Naruto Uzumaki Civil']}\n"
   ]
  }
 ],
 "metadata": {
  "kernelspec": {
   "display_name": "Python 3",
   "language": "python",
   "name": "python3"
  },
  "language_info": {
   "codemirror_mode": {
    "name": "ipython",
    "version": 3
   },
   "file_extension": ".py",
   "mimetype": "text/x-python",
   "name": "python",
   "nbconvert_exporter": "python",
   "pygments_lexer": "ipython3",
   "version": "3.8.5"
  }
 },
 "nbformat": 4,
 "nbformat_minor": 4
}
