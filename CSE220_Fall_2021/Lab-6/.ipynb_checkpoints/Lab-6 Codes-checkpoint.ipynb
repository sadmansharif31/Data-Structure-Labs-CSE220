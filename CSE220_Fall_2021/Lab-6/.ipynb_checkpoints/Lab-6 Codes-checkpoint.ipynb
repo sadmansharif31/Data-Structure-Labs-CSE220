{
 "cells": [
  {
   "cell_type": "code",
   "execution_count": 3,
   "metadata": {},
   "outputs": [
    {
     "name": "stdout",
     "output_type": "stream",
     "text": [
      "[-63, -45, -34, -23, -12, -3, 3, 6, 7, 12, 56, 100, 113]\n"
     ]
    }
   ],
   "source": [
    "# Task 1\n",
    "\n",
    "Listt=[-34,6,7,3,-3,56,12,-23,100,-12,-63,113,-45]\n",
    "\n",
    "def selection(array,x):\n",
    "    i=0\n",
    "    minimum=x\n",
    "    ev=len(array)\n",
    "    p=(len(array)-1)\n",
    "    \n",
    "    if ev==0:\n",
    "        return ('Empty list')\n",
    "    \n",
    "    elif x==p:\n",
    "        return \n",
    "    \n",
    "    for i in range(x,ev):\n",
    "        if array[minimum]>array[i]:\n",
    "            minimum=i\n",
    "        i+=1\n",
    "\n",
    "        \n",
    "    ref=array[x]\n",
    "    array[x]=array[minimum]\n",
    "    array[minimum]=ref\n",
    "    selection(array,x+1)\n",
    "    return (Listt)\n",
    "\n",
    "x=0\n",
    "\n",
    "print(selection(Listt,x))"
   ]
  },
  {
   "cell_type": "code",
   "execution_count": 4,
   "metadata": {},
   "outputs": [
    {
     "name": "stdout",
     "output_type": "stream",
     "text": [
      "[-99, -73, -67, -45, -34, -23, -12, -3, 3, 6, 7, 12, 56, 100, 124]\n"
     ]
    }
   ],
   "source": [
    "# Task-2\n",
    "\n",
    "listt=[-34,6,7,3,-3,56,12,-23,-99,100,-12,-73,124,-45,-67]\n",
    "\n",
    "def insertion(array,p):\n",
    "    ex=len(array)\n",
    "    if len(array)==0:\n",
    "        return('Empty list')\n",
    "    \n",
    "    elif ex==p:\n",
    "        return\n",
    "    temp=p\n",
    "    ind=array[p]\n",
    "    \n",
    "    while 0<temp and array[temp-1]>ind:\n",
    "        array[temp]=array[temp-1]\n",
    "        temp-=1\n",
    "    array[temp]=ind\n",
    "    insertion(array,p+1)\n",
    "    return listt\n",
    "\n",
    "print(insertion(listt,1))"
   ]
  },
  {
   "cell_type": "code",
   "execution_count": 3,
   "metadata": {},
   "outputs": [
    {
     "name": "stdout",
     "output_type": "stream",
     "text": [
      "-83 => -67 => -45 => -34 => -23 => -12 => -3 => 3 => 12 => 90 => "
     ]
    }
   ],
   "source": [
    "# Task-3\n",
    "\n",
    "class Node:\n",
    "    def __init__(self,element=None,nxt=None):\n",
    "        self.data=element\n",
    "        self.next=nxt\n",
    "\n",
    "class MyList:\n",
    "    def __init__(self,lisst=None):\n",
    "    \n",
    "        self.head=None\n",
    "        self.tail=None\n",
    "\n",
    "        if lisst!=None:\n",
    "            for i in lisst:\n",
    "                temp=Node(i)\n",
    "                \n",
    "                if self.head==None:\n",
    "                    self.head=temp\n",
    "                    self.tail=temp\n",
    "                elif self.head!=None:\n",
    "                    self.tail.next=temp        \n",
    "                    self.tail=temp\n",
    "\n",
    "    def bubble(self):\n",
    "        size=0\n",
    "        imp=self.head\n",
    "        while imp!=None:\n",
    "            size=size+1\n",
    "            imp=imp.next\n",
    "        ev=MyList()\n",
    "        if self.head!=None:\n",
    "            for elm_1 in range(1,size):\n",
    "                mod=self.head\n",
    "                for elm_2 in range(size-elm_1):\n",
    "                    if mod.next.data<mod.data:\n",
    "                        mod.data,mod.next.data=mod.next.data,mod.data\n",
    "                    mod=mod.next\n",
    "                \n",
    "    def printlist(self):\n",
    "        temp=self.head\n",
    "        if temp!=None:\n",
    "            while temp!=None:\n",
    "                print(temp.data,end=\" => \")\n",
    "                temp=temp.next\n",
    "    \n",
    "        elif temp== None:\n",
    "            print(\"List is empty\")\n",
    "        \n",
    "        \n",
    "\n",
    "listt=MyList([-34,3,-3,90,12,-23,-12,-83,-45,-67])\n",
    "listt.bubble()\n",
    "listt.printlist()\n"
   ]
  },
  {
   "cell_type": "code",
   "execution_count": 4,
   "metadata": {},
   "outputs": [
    {
     "name": "stdout",
     "output_type": "stream",
     "text": [
      "-89 => -45 => -34 => -23 => -12 => -3 => 3 => 6 => 7 => 12 => 65 => "
     ]
    }
   ],
   "source": [
    "# Task-4\n",
    "\n",
    "class Node:\n",
    "    def __init__(self,element=None,nxt=None):\n",
    "        self.data=element\n",
    "        self.next=nxt\n",
    "\n",
    "class MyList:\n",
    "    def __init__(self,lisst=None):\n",
    "        self.head,self.tail=None,None\n",
    "        \n",
    "        if lisst!=None:\n",
    "            for i in lisst:\n",
    "                temp=Node(i)\n",
    "                \n",
    "                if self.head==None:\n",
    "                    self.head=temp\n",
    "                    self.tail=temp\n",
    "                elif self.head!=None:\n",
    "                    self.tail.next=temp        \n",
    "                    self.tail=temp\n",
    "    def selection(self):\n",
    "        ev=self.head\n",
    "        if self.head!=None:\n",
    "            while ev.next!=None:\n",
    "                imp=ev.next\n",
    "                while imp!=None:\n",
    "                    if imp.data<ev.data:\n",
    "                        temp,ev.data=ev.data,imp.data\n",
    "                        imp.data=temp\n",
    "                    imp=imp.next\n",
    "                ev=ev.next\n",
    "\n",
    "    def printlist(self):\n",
    "        temp=self.head\n",
    "        if temp!=None:\n",
    "            while temp!=None:\n",
    "                print(temp.data,end=\" => \")\n",
    "                temp=temp.next\n",
    "    \n",
    "        elif temp== None:\n",
    "            print(\"List is empty\")\n",
    "\n",
    "\n",
    "lsst=MyList([-34,6,7,3,-3,65,12,-23,-12,-89,-45])\n",
    "lsst.selection()\n",
    "lsst.printlist()\n",
    "   "
   ]
  },
  {
   "cell_type": "code",
   "execution_count": 5,
   "metadata": {},
   "outputs": [
    {
     "name": "stdout",
     "output_type": "stream",
     "text": [
      "-73 <=> -45 <=> -34 <=> -23 <=> -12 <=> -3 <=> 3 <=> 6 <=> 7 <=> 12 <=> 56 <=> "
     ]
    }
   ],
   "source": [
    "# Task-5\n",
    "\n",
    "class Node:\n",
    "    def __init__(self,data,n=None,p=None):\n",
    "        self.data=data\n",
    "        self.prev,self.next=p,n\n",
    "\n",
    "class DoublyList:\n",
    "    def __init__(self,array):\n",
    "        x=len(array)\n",
    "        self.head,self.tail=None,None\n",
    "\n",
    "        for j in range (0,x):\n",
    "            temp=Node(array[j])\n",
    "            \n",
    "            if self.head!=None:\n",
    "                imp=self.tail\n",
    "                self.tail.next=temp\n",
    "                self.tail=temp\n",
    "                self.tail.prev=imp\n",
    "            \n",
    "            elif self.head==None:\n",
    "                self.head=temp \n",
    "                self.tail=temp        \n",
    "\n",
    "    def Doubly_Insertion(self):\n",
    "        size=0\n",
    "        ev=self.head\n",
    "        while ev!=None:\n",
    "            size=size+1\n",
    "            ev=ev.next\n",
    "\n",
    "        for elm in range(0,size):\n",
    "            count_1=0\n",
    "            \n",
    "            forward_end=self.head\n",
    "            while elm>count_1:\n",
    "                forward_end=forward_end.next\n",
    "                count_1+=1\n",
    "            \n",
    "            count_2= 0  \n",
    "            backward_start=forward_end\n",
    "            new=backward_start.data \n",
    "            \n",
    "            while elm>count_2:\n",
    "                if backward_start.prev.data<new:\n",
    "                    break\n",
    "                elif backward_start.prev.data>new:\n",
    "                    backward_start.data=backward_start.prev.data\n",
    "                \n",
    "                count_2+=1\n",
    "                backward_start=backward_start.prev\n",
    "            backward_start.data=new\n",
    "            \n",
    "    def printlist(self):\n",
    "        temp=self.head\n",
    "        if temp!=None:\n",
    "            while temp!=None:\n",
    "                print(temp.data,end=\" <=> \")\n",
    "                temp=temp.next\n",
    "    \n",
    "        elif temp== None:\n",
    "            print(\"List is empty\")\n",
    "\n",
    "lstt=DoublyList([-34,6,7,3,-3,56,12,-23,-12,-73,-45])\n",
    "lstt.Doubly_Insertion()\n",
    "lstt.printlist()"
   ]
  },
  {
   "cell_type": "code",
   "execution_count": 6,
   "metadata": {},
   "outputs": [
    {
     "name": "stdout",
     "output_type": "stream",
     "text": [
      "Enter the value: 93\n",
      "Value found at index: 5\n"
     ]
    }
   ],
   "source": [
    "# Task-6\n",
    "\n",
    "def Binary_Search(array,left,right,value):\n",
    "\n",
    "    if left>right:\n",
    "        return 'x'\n",
    "    mid=(left+right)//2\n",
    "\n",
    "    if array[mid]==value:\n",
    "        return mid\n",
    " \n",
    "    elif array[mid]<value:\n",
    "        y=mid + 1\n",
    "        return Binary_Search(array,y,right,value)\n",
    "\n",
    "    elif array[mid]>value:\n",
    "        x=mid-1\n",
    "        return Binary_Search(array,left,x,value)\n",
    "\n",
    "    \n",
    "lst= [2,5,6,77,8,93,10]  \n",
    "r=len(lst)-1\n",
    "fg=int(input('Enter the value: '))\n",
    "temp=Binary_Search(lst,0,r,fg)\n",
    "\n",
    "if temp==('x'):\n",
    "    print('Value not found in the list')\n",
    "elif temp!=('x'):\n",
    "    print('Value found at index:',temp)"
   ]
  },
  {
   "cell_type": "code",
   "execution_count": 7,
   "metadata": {},
   "outputs": [
    {
     "name": "stdout",
     "output_type": "stream",
     "text": [
      "Enter the number:40\n",
      "102334155\n"
     ]
    }
   ],
   "source": [
    "# Task-7\n",
    "\n",
    "lst=[]\n",
    "\n",
    "def fibonacci(number):\n",
    "    ev=1\n",
    "    lst.append(ev)\n",
    "    lst.append(ev)\n",
    "    \n",
    "    for elm in range(2,number):\n",
    "        \n",
    "        lst.append(lst[elm-2]+lst[elm-1])\n",
    "        \n",
    "    return lst[number-1]\n",
    "\n",
    "imp=int(input('Enter the number:'))\n",
    "\n",
    "print(fibonacci(imp))"
   ]
  },
  {
   "cell_type": "code",
   "execution_count": null,
   "metadata": {},
   "outputs": [],
   "source": []
  }
 ],
 "metadata": {
  "kernelspec": {
   "display_name": "Python 3",
   "language": "python",
   "name": "python3"
  },
  "language_info": {
   "codemirror_mode": {
    "name": "ipython",
    "version": 3
   },
   "file_extension": ".py",
   "mimetype": "text/x-python",
   "name": "python",
   "nbconvert_exporter": "python",
   "pygments_lexer": "ipython3",
   "version": "3.8.5"
  }
 },
 "nbformat": 4,
 "nbformat_minor": 4
}
