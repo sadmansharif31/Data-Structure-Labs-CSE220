{
 "cells": [
  {
   "cell_type": "code",
   "execution_count": 15,
   "metadata": {},
   "outputs": [
    {
     "name": "stdout",
     "output_type": "stream",
     "text": [
      "720\n"
     ]
    }
   ],
   "source": [
    "# Task-1 (a)\n",
    "\n",
    "def factorial(x):\n",
    "    if x==1:\n",
    "        return(1)\n",
    "    return x*factorial(x-1)\n",
    "\n",
    "print(factorial(6))"
   ]
  },
  {
   "cell_type": "code",
   "execution_count": 2,
   "metadata": {},
   "outputs": [
    {
     "name": "stdout",
     "output_type": "stream",
     "text": [
      "Enter the number:5\n",
      "1\n",
      "0\n"
     ]
    },
    {
     "ename": "RecursionError",
     "evalue": "maximum recursion depth exceeded in comparison",
     "output_type": "error",
     "traceback": [
      "\u001b[1;31m---------------------------------------------------------------------------\u001b[0m",
      "\u001b[1;31mRecursionError\u001b[0m                            Traceback (most recent call last)",
      "\u001b[1;32m<ipython-input-2-a1d59c9f7d4e>\u001b[0m in \u001b[0;36m<module>\u001b[1;34m\u001b[0m\n\u001b[0;32m     10\u001b[0m \u001b[0mx\u001b[0m\u001b[1;33m=\u001b[0m\u001b[0mint\u001b[0m\u001b[1;33m(\u001b[0m\u001b[0minput\u001b[0m\u001b[1;33m(\u001b[0m\u001b[1;34m'Enter the number:'\u001b[0m\u001b[1;33m)\u001b[0m\u001b[1;33m)\u001b[0m\u001b[1;33m\u001b[0m\u001b[1;33m\u001b[0m\u001b[0m\n\u001b[0;32m     11\u001b[0m \u001b[1;33m\u001b[0m\u001b[0m\n\u001b[1;32m---> 12\u001b[1;33m \u001b[0mfibonacci\u001b[0m\u001b[1;33m(\u001b[0m\u001b[0mx\u001b[0m\u001b[1;33m)\u001b[0m\u001b[1;33m\u001b[0m\u001b[1;33m\u001b[0m\u001b[0m\n\u001b[0m",
      "\u001b[1;32m<ipython-input-2-a1d59c9f7d4e>\u001b[0m in \u001b[0;36mfibonacci\u001b[1;34m(x)\u001b[0m\n\u001b[0;32m      6\u001b[0m         \u001b[0mprint\u001b[0m \u001b[1;33m(\u001b[0m\u001b[0mx\u001b[0m\u001b[1;33m)\u001b[0m\u001b[1;33m\u001b[0m\u001b[1;33m\u001b[0m\u001b[0m\n\u001b[0;32m      7\u001b[0m         \u001b[1;31m#return x\u001b[0m\u001b[1;33m\u001b[0m\u001b[1;33m\u001b[0m\u001b[1;33m\u001b[0m\u001b[0m\n\u001b[1;32m----> 8\u001b[1;33m     \u001b[1;32mreturn\u001b[0m \u001b[1;33m(\u001b[0m\u001b[0mfibonacci\u001b[0m\u001b[1;33m(\u001b[0m\u001b[0mx\u001b[0m\u001b[1;33m-\u001b[0m\u001b[1;36m1\u001b[0m\u001b[1;33m)\u001b[0m\u001b[1;33m+\u001b[0m\u001b[0mfibonacci\u001b[0m\u001b[1;33m(\u001b[0m\u001b[0mx\u001b[0m\u001b[1;33m-\u001b[0m\u001b[1;36m2\u001b[0m\u001b[1;33m)\u001b[0m\u001b[1;33m)\u001b[0m\u001b[1;33m\u001b[0m\u001b[1;33m\u001b[0m\u001b[0m\n\u001b[0m\u001b[0;32m      9\u001b[0m \u001b[1;33m\u001b[0m\u001b[0m\n\u001b[0;32m     10\u001b[0m \u001b[0mx\u001b[0m\u001b[1;33m=\u001b[0m\u001b[0mint\u001b[0m\u001b[1;33m(\u001b[0m\u001b[0minput\u001b[0m\u001b[1;33m(\u001b[0m\u001b[1;34m'Enter the number:'\u001b[0m\u001b[1;33m)\u001b[0m\u001b[1;33m)\u001b[0m\u001b[1;33m\u001b[0m\u001b[1;33m\u001b[0m\u001b[0m\n",
      "... last 1 frames repeated, from the frame below ...\n",
      "\u001b[1;32m<ipython-input-2-a1d59c9f7d4e>\u001b[0m in \u001b[0;36mfibonacci\u001b[1;34m(x)\u001b[0m\n\u001b[0;32m      6\u001b[0m         \u001b[0mprint\u001b[0m \u001b[1;33m(\u001b[0m\u001b[0mx\u001b[0m\u001b[1;33m)\u001b[0m\u001b[1;33m\u001b[0m\u001b[1;33m\u001b[0m\u001b[0m\n\u001b[0;32m      7\u001b[0m         \u001b[1;31m#return x\u001b[0m\u001b[1;33m\u001b[0m\u001b[1;33m\u001b[0m\u001b[1;33m\u001b[0m\u001b[0m\n\u001b[1;32m----> 8\u001b[1;33m     \u001b[1;32mreturn\u001b[0m \u001b[1;33m(\u001b[0m\u001b[0mfibonacci\u001b[0m\u001b[1;33m(\u001b[0m\u001b[0mx\u001b[0m\u001b[1;33m-\u001b[0m\u001b[1;36m1\u001b[0m\u001b[1;33m)\u001b[0m\u001b[1;33m+\u001b[0m\u001b[0mfibonacci\u001b[0m\u001b[1;33m(\u001b[0m\u001b[0mx\u001b[0m\u001b[1;33m-\u001b[0m\u001b[1;36m2\u001b[0m\u001b[1;33m)\u001b[0m\u001b[1;33m)\u001b[0m\u001b[1;33m\u001b[0m\u001b[1;33m\u001b[0m\u001b[0m\n\u001b[0m\u001b[0;32m      9\u001b[0m \u001b[1;33m\u001b[0m\u001b[0m\n\u001b[0;32m     10\u001b[0m \u001b[0mx\u001b[0m\u001b[1;33m=\u001b[0m\u001b[0mint\u001b[0m\u001b[1;33m(\u001b[0m\u001b[0minput\u001b[0m\u001b[1;33m(\u001b[0m\u001b[1;34m'Enter the number:'\u001b[0m\u001b[1;33m)\u001b[0m\u001b[1;33m)\u001b[0m\u001b[1;33m\u001b[0m\u001b[1;33m\u001b[0m\u001b[0m\n",
      "\u001b[1;31mRecursionError\u001b[0m: maximum recursion depth exceeded in comparison"
     ]
    }
   ],
   "source": [
    "# Task-1 (b)\n",
    "\n",
    "def fibonacci(x):\n",
    "    \n",
    "    if x==1 or x==0:\n",
    "        print (x)\n",
    "        \n",
    "    return (fibonacci(x-1)+fibonacci(x-2))\n",
    "    \n",
    "x=int(input('Enter the number:'))\n",
    "\n",
    "fibonacci(x)"
   ]
  },
  {
   "cell_type": "code",
   "execution_count": 11,
   "metadata": {},
   "outputs": [
    {
     "name": "stdout",
     "output_type": "stream",
     "text": [
      "Enter size of array: 3\n",
      "Enter number-1: 43\n",
      "Enter number-2: 7654\n",
      "Enter number-3: 34\n",
      "43->7654->34->"
     ]
    }
   ],
   "source": [
    "# Task-1 (c)\n",
    "\n",
    "def arr(array,ind,size):\n",
    "    \n",
    "    if size<=ind:\n",
    "        return \n",
    "\n",
    "    print(array[ind],end=\"->\")\n",
    "    return(arr(array,ind+1,size))\n",
    "    \n",
    "size=int(input(\"Enter size of array: \"))    \n",
    "array=[]\n",
    "\n",
    "for elm in range(1,size+1):\n",
    "    \n",
    "    array.append(input('Enter number-'+str(elm)+': '))\n",
    "\n",
    "arr(array,0,size)"
   ]
  },
  {
   "cell_type": "code",
   "execution_count": 1,
   "metadata": {},
   "outputs": [
    {
     "name": "stdout",
     "output_type": "stream",
     "text": [
      "Enter base:3\n",
      "Enter exponent:3\n",
      "Answer: 27\n"
     ]
    }
   ],
   "source": [
    "# Task-1 (d)\n",
    "\n",
    "def n_power(base,n):\n",
    "    \n",
    "    if n==1:\n",
    "        return base\n",
    "    else:\n",
    "        return base*n_power(base,n-1)\n",
    "    \n",
    "x=int(input('Enter base:'))\n",
    "y=int(input('Enter exponent:'))\n",
    "print('Answer:',n_power(x,y))"
   ]
  },
  {
   "cell_type": "code",
   "execution_count": 16,
   "metadata": {},
   "outputs": [
    {
     "name": "stdout",
     "output_type": "stream",
     "text": [
      "Enter the decimal number:56\n",
      "111000"
     ]
    }
   ],
   "source": [
    "# Task-2 (a)\n",
    "\n",
    "def Binary(num):\n",
    "    if num==0:\n",
    "        return num\n",
    "    if num>=1:\n",
    "        Binary(num//2)\n",
    "    print(num%2,end = '')\n",
    "    \n",
    "p=int(input('Enter the decimal number:'))\n",
    "Binary(p)\n"
   ]
  },
  {
   "cell_type": "code",
   "execution_count": 11,
   "metadata": {},
   "outputs": [
    {
     "name": "stdout",
     "output_type": "stream",
     "text": [
      "Summation: 403\n"
     ]
    }
   ],
   "source": [
    "# Task-2 (b)\n",
    "\n",
    "class Node:\n",
    "    def __init__(self,element,nxt=None):\n",
    "        self.data=element\n",
    "        self.next=nxt\n",
    "\n",
    "class MyList:\n",
    "    def __init__(self,lisst=None):\n",
    "    \n",
    "        self.head=None\n",
    "        self.tail=None\n",
    "\n",
    "        if lisst!=None:\n",
    "            for i in lisst:\n",
    "                temp=Node(i)\n",
    "                \n",
    "                if self.tail==None:\n",
    "                    self.head=temp\n",
    "                    self.tail=temp\n",
    "                elif self.tail!=None:\n",
    "                    self.tail.next=temp        \n",
    "                    self.tail=temp\n",
    "                    \n",
    "def add(head):\n",
    "    if head.next==None:\n",
    "        return head.data\n",
    "    return (add(head.next)+head.data)\n",
    "\n",
    "    \n",
    "imp=MyList([99,34,57,87,47,39,40])\n",
    "print(\"Summation:\",add(imp.head))"
   ]
  },
  {
   "cell_type": "code",
   "execution_count": 7,
   "metadata": {},
   "outputs": [
    {
     "name": "stdout",
     "output_type": "stream",
     "text": [
      "Reversed List: \n",
      "15\n",
      "14\n",
      "13\n",
      "12\n",
      "11\n"
     ]
    }
   ],
   "source": [
    "# Task-2 (c)\n",
    "\n",
    "class Node:\n",
    "    def __init__(self,element,nxt=None):\n",
    "        self.data=element\n",
    "        self.next=nxt\n",
    "\n",
    "class MyList:\n",
    "    def __init__(self,lisst=None):\n",
    "    \n",
    "        self.head=None\n",
    "        self.tail=None\n",
    "\n",
    "        if lisst!=None:\n",
    "            for i in lisst:\n",
    "                temp=Node(i)\n",
    "                \n",
    "                if self.tail==None:\n",
    "                    self.head=temp\n",
    "                    self.tail=temp\n",
    "                elif self.tail!=None:\n",
    "                    self.tail.next=temp        \n",
    "                    self.tail=temp\n",
    "\n",
    "def ReverseList(head):\n",
    "    mod=head\n",
    "    if mod==None:\n",
    "        return\n",
    "    elif mod!=None:\n",
    "        ReverseList(mod.next)\n",
    "        print(head.data)\n",
    "        \n",
    "temp= MyList([11,12,13,14,15])\n",
    "print('Reversed List: ')\n",
    "ReverseList(temp.head)"
   ]
  },
  {
   "cell_type": "code",
   "execution_count": 5,
   "metadata": {},
   "outputs": [
    {
     "name": "stdout",
     "output_type": "stream",
     "text": [
      "Enter the height:5\n"
     ]
    },
    {
     "data": {
      "text/plain": [
       "28"
      ]
     },
     "execution_count": 5,
     "metadata": {},
     "output_type": "execute_result"
    }
   ],
   "source": [
    "# Task-3 \n",
    "\n",
    "def hocbuilder(height):\n",
    "    if height==1:\n",
    "        return 8\n",
    "    else:\n",
    "        temp=5+hocbuilder(height-1)\n",
    "        return temp\n",
    "    \n",
    "x=int(input('Enter the height:'))\n",
    "\n",
    "      \n",
    "hocbuilder(x)\n",
    "    "
   ]
  },
  {
   "cell_type": "code",
   "execution_count": 14,
   "metadata": {},
   "outputs": [
    {
     "name": "stdout",
     "output_type": "stream",
     "text": [
      "Enter an integer: 5\n",
      "1 \n",
      "1 2 \n",
      "1 2 3 \n",
      "1 2 3 4 \n",
      "1 2 3 4 5 \n"
     ]
    }
   ],
   "source": [
    "# Task-4 (a)\n",
    "\n",
    "def row(a, num):  \n",
    "    if num == 0:  \n",
    "        return  \n",
    "    print(a, end=\" \")  \n",
    "    row(a + 1, num-1)  \n",
    "  \n",
    "  \n",
    "def triangle(n, a, num):  \n",
    "    if n == 0:  \n",
    "        return  \n",
    "    row(a, num)  \n",
    "    print()  \n",
    "    triangle(n - 1, a, num + 1)  \n",
    "    \n",
    "value = int(input(\"Enter an integer: \"))  \n",
    "triangle(value, 1, 1)\n",
    "\n"
   ]
  },
  {
   "cell_type": "code",
   "execution_count": 4,
   "metadata": {},
   "outputs": [
    {
     "name": "stdout",
     "output_type": "stream",
     "text": [
      "        1 \n",
      "      1 2 \n",
      "    1 2 3 \n",
      "  1 2 3 4 \n",
      "1 2 3 4 5 \n"
     ]
    }
   ],
   "source": [
    "# Task-4 (b)\n",
    "\n",
    "def space(x):\n",
    "    if (x == 0):\n",
    "        return\n",
    "\n",
    "    print(\" \", end=\" \")\n",
    "    space(x-1)\n",
    "\n",
    "def printRow(n, i):\n",
    "    if (n == 0):\n",
    "        return;\n",
    "    print(i, end=\" \")\n",
    "    i+= 1\n",
    "    printRow(n-1, i)\n",
    "def patternPrint(m, n):\n",
    "    if (m == 0):\n",
    "        return\n",
    "\n",
    "    space(m-1)  \n",
    "    printRow(n-m+1, 1) \n",
    "    print()\n",
    "    patternPrint(m-1, n)\n",
    "\n",
    "\n",
    "m = 5\n",
    "patternPrint(m, m)\n"
   ]
  },
  {
   "cell_type": "code",
   "execution_count": 2,
   "metadata": {},
   "outputs": [
    {
     "name": "stdout",
     "output_type": "stream",
     "text": [
      "1. Investment:25000; Profit:0.0\n",
      "2. Investment:100000; Profit:3375.0\n",
      "3. Investment:250000; Profit:15375.0\n",
      "4. Investment:350000; Profit:23375.0\n"
     ]
    }
   ],
   "source": [
    "# Task-5\n",
    "\n",
    "class FinalQ:  \n",
    "    def print(self, array, idx):  \n",
    "        if idx < len(array):  \n",
    "            profit = self.calcProfit(array[idx])  \n",
    "            print(idx+1, \". Investment:\", array[idx], \"; Profit:\", profit, sep=\"\")  \n",
    "            self.print(array, idx + 1)  \n",
    "  \n",
    "    def calcProfit(self, investment):  \n",
    "        if investment % 100 != 0:  \n",
    "            return \"Investment is not a multiple of hundred\"  \n",
    "        if investment <= 100000:  \n",
    "            amount = investment - 25000  \n",
    "            times = amount // 100 \n",
    "            return self.profit1(times)  \n",
    "        elif investment > 100000:  \n",
    "            amount1 = investment - 100000  \n",
    "            times = amount1 // 100  \n",
    "            profit2 = self.profit2(times)  \n",
    "            times = (100000-25000)//100  \n",
    "            profit1 = self.profit1(times)  \n",
    "            return profit1 + profit2  \n",
    "        else:  \n",
    "            return \"Invalid amount of Investment\"  \n",
    "    def profit1(self, times):  \n",
    "  \n",
    "        if times == 0:  \n",
    "            return 0.0  \n",
    "        else:  \n",
    "            return 4.5 + self.profit1(times - 1)\n",
    "  \n",
    "    def profit2(self, times):  \n",
    "        if times == 0:  \n",
    "            return 0.0  \n",
    "        else:  \n",
    "            return 8.0 + self.profit2(times - 1)  \n",
    "  \n",
    "  \n",
    "# Tester  \n",
    "array = [25000, 100000, 250000, 350000]  \n",
    "f = FinalQ()  \n",
    "f.print(array, 0)  \n",
    "  \n"
   ]
  },
  {
   "cell_type": "code",
   "execution_count": 3,
   "metadata": {},
   "outputs": [
    {
     "name": "stdout",
     "output_type": "stream",
     "text": [
      "7\n"
     ]
    }
   ],
   "source": [
    "# Task-6\n",
    "\n",
    "class Node:\n",
    "    def __init__(self,element,nxt=None):\n",
    "        self.data=element\n",
    "        self.next=nxt\n",
    "\n",
    "class MyList:\n",
    "    def __init__(self,lisst=None):\n",
    "    \n",
    "        self.head=None\n",
    "        self.tail=None\n",
    "\n",
    "        if lisst!=None:\n",
    "            for i in lisst:\n",
    "                temp=Node(i)\n",
    "                \n",
    "                if self.tail==None:\n",
    "                    self.head=temp\n",
    "                    self.tail=temp\n",
    "                elif self.tail!=None:\n",
    "                    self.tail.next=temp        \n",
    "                    self.tail=temp\n",
    "        \n",
    "def length(head):    \n",
    "\n",
    "    if head is None:\n",
    "\n",
    "        return 0\n",
    "\n",
    "    else:\n",
    "\n",
    "         return 1+length(head.next)\n",
    "        \n",
    "imp=MyList([99,34,57,87,47,39,40])\n",
    "print(length(imp.head))"
   ]
  },
  {
   "cell_type": "code",
   "execution_count": 5,
   "metadata": {},
   "outputs": [
    {
     "name": "stdout",
     "output_type": "stream",
     "text": [
      "7\n"
     ]
    }
   ],
   "source": [
    "# Task-7 (Alternate)\n",
    "\n",
    "class Node:\n",
    "    def __init__(self,element,nxt=None):\n",
    "        self.data=element\n",
    "        self.next=nxt\n",
    "\n",
    "class MyList:\n",
    "    def __init__(self,lisst=None):\n",
    "    \n",
    "        self.head=None\n",
    "        self.tail=None\n",
    "\n",
    "        if lisst!=None:\n",
    "            for i in lisst:\n",
    "                temp=Node(i)\n",
    "                \n",
    "                if self.tail==None:\n",
    "                    self.head=temp\n",
    "                    self.tail=temp\n",
    "                elif self.tail!=None:\n",
    "                    self.tail.next=temp        \n",
    "                    self.tail=temp\n",
    "    def length(self,Node):    \n",
    "\n",
    "        if Node is None:\n",
    "\n",
    "            return 0\n",
    "\n",
    "        else:\n",
    "\n",
    "            return 1+ self.length(Node.next)\n",
    "    \n",
    "imp=MyList([99,34,57,87,47,39,40])\n",
    "print(length(imp.head))"
   ]
  },
  {
   "cell_type": "code",
   "execution_count": 14,
   "metadata": {},
   "outputs": [
    {
     "name": "stdout",
     "output_type": "stream",
     "text": [
      "45\n"
     ]
    }
   ],
   "source": [
    "# Task-8\n",
    "\n",
    "def sum_of_integers(n):\n",
    "\n",
    "    if n == 0:\n",
    "\n",
    "        return 0\n",
    "\n",
    "    else:\n",
    "\n",
    "        return n + sum_of_integers(n-1)\n",
    "    \n",
    "print(sum_of_integers(9))"
   ]
  },
  {
   "cell_type": "code",
   "execution_count": 20,
   "metadata": {},
   "outputs": [
    {
     "data": {
      "text/plain": [
       "56"
      ]
     },
     "execution_count": 20,
     "metadata": {},
     "output_type": "execute_result"
    }
   ],
   "source": [
    "# Task-9\n",
    "\n",
    "def todecimal(b,i,decimal):\n",
    "    if len(b)==i:\n",
    "        return decimal\n",
    "    else:\n",
    "        if b[i]=='0':\n",
    "            decimal=2*decimal\n",
    "        else:\n",
    "            decimal=2*decimal+1\n",
    "    return todecimal(b,i+1,decimal)\n",
    "\n",
    "todecimal('111000',0,0)  \n",
    "    "
   ]
  },
  {
   "cell_type": "code",
   "execution_count": 22,
   "metadata": {},
   "outputs": [
    {
     "name": "stdout",
     "output_type": "stream",
     "text": [
      "10\n"
     ]
    }
   ],
   "source": [
    "# Task-10\n",
    "\n",
    "def sumofdigits(num,add):\n",
    "    if num==0:\n",
    "        return add\n",
    "    add=add+(num%10)\n",
    "    return sumofdigits((num//10),add)\n",
    "\n",
    "print(sumofdigits(1234,0))"
   ]
  },
  {
   "cell_type": "code",
   "execution_count": 24,
   "metadata": {},
   "outputs": [
    {
     "name": "stdout",
     "output_type": "stream",
     "text": [
      "70\n"
     ]
    }
   ],
   "source": [
    "# Task-11\n",
    "\n",
    "def grid_walk(m,n):\n",
    "\n",
    "    if m<0 or n<0:\n",
    "\n",
    "        return 0\n",
    "\n",
    "    if m == 0 or n == 0:\n",
    "\n",
    "        return 1\n",
    "\n",
    "    else:\n",
    "\n",
    "        return grid_walk(m-1,n)+grid_walk(m,n-1)\n",
    "\n",
    "a=4\n",
    "b=4\n",
    "\n",
    "print(grid_walk(a,b))"
   ]
  },
  {
   "cell_type": "code",
   "execution_count": 4,
   "metadata": {},
   "outputs": [
    {
     "name": "stdout",
     "output_type": "stream",
     "text": [
      "1836311903\n",
      "0\n"
     ]
    }
   ],
   "source": [
    "# Task-12\n",
    "\n",
    "import time\n",
    "A = list()\n",
    "def F(n):\n",
    "    if (n==0 or n==1):\n",
    "        return 1\n",
    "    else:\n",
    "        return F(n-1)+F(n-2)\n",
    "def FM(n):\n",
    "    if(A[n] > 0):\n",
    "        return A[n]\n",
    "    if(n == 0 or n==1):\n",
    "        return 1\n",
    "    else:\n",
    "        return A[n].append(FM(n-1)+FM(n-2))\n",
    "def CalcFib():\n",
    "    A.insert(0,1)\n",
    "    A.insert(1,1)\n",
    "    for i in range(2,46):\n",
    "        A.insert(i,A[i-1]+A[i-2])\n",
    "\n",
    "#-------------Tester----------------#\n",
    "CalcFib()\n",
    "startTime = time.time_ns()\n",
    "print(FM(45))\n",
    "duration = time.time_ns()-startTime\n",
    "print(duration)"
   ]
  },
  {
   "cell_type": "code",
   "execution_count": 5,
   "metadata": {},
   "outputs": [
    {
     "name": "stdout",
     "output_type": "stream",
     "text": [
      "[-6, -4, -1, 0, 7, 9, 13, 18, 21, 25]\n"
     ]
    }
   ],
   "source": [
    "# Task-13 \n",
    "\n",
    "# Ascending order using recursion (Insertion Sort)\n",
    "\n",
    "def insertion_sort(a,i):\n",
    "\n",
    "    l=len(a)\n",
    "\n",
    "    if i == l:\n",
    "\n",
    "        return -1\n",
    "\n",
    "    if i < l:\n",
    "\n",
    "        j=i-1\n",
    "\n",
    "        key=a[i]\n",
    "\n",
    "        while j>=0 and key<a[j]:\n",
    "\n",
    "            a[j+1]=a[j]\n",
    "\n",
    "            j=j-1\n",
    "\n",
    "        a[j+1]=key\n",
    "\n",
    "        insertion_sort(a,i+1)\n",
    "\n",
    "#Tester\n",
    "\n",
    "A=[13,25,0,-4,7,-1,18,9,-6,21]\n",
    "\n",
    "i=1\n",
    "\n",
    "insertion_sort(A,i)\n",
    "\n",
    "print(A)"
   ]
  },
  {
   "cell_type": "code",
   "execution_count": 2,
   "metadata": {},
   "outputs": [
    {
     "name": "stdout",
     "output_type": "stream",
     "text": [
      "[-6, -4, -1, 0, 7, 9, 13, 18, 21, 25]\n"
     ]
    }
   ],
   "source": [
    "\n",
    "# Task-14\n",
    "\n",
    "# Ascending order using recursion (Selection Sort)\n",
    "\n",
    "def selection_sort(a,i,j):\n",
    "\n",
    "    l=len(a)\n",
    "\n",
    "    if i == l and j==l:\n",
    "\n",
    "        return -1\n",
    "\n",
    "    if i < l-1:\n",
    "\n",
    "        min=i\n",
    "\n",
    "        while j < l:\n",
    "\n",
    "            if a[j] < a[min]:\n",
    "\n",
    "                min = j\n",
    "\n",
    "            j=j+1\n",
    "\n",
    "        if min != i:\n",
    "\n",
    "            temp=a[i]\n",
    "\n",
    "            a[i]=a[min]\n",
    "\n",
    "            a[min]=temp\n",
    "\n",
    "        selection_sort(a,i+1,i+2)\n",
    "\n",
    "A=[13,25,0,-4,7,-1,18,9,-6,21]\n",
    "\n",
    "i=0\n",
    "\n",
    "j=i+1\n",
    "\n",
    "selection_sort(A,i,j)\n",
    "\n",
    "print(A)"
   ]
  },
  {
   "cell_type": "code",
   "execution_count": 3,
   "metadata": {},
   "outputs": [
    {
     "data": {
      "text/plain": [
       "14"
      ]
     },
     "execution_count": 3,
     "metadata": {},
     "output_type": "execute_result"
    }
   ],
   "source": [
    "28//2"
   ]
  },
  {
   "cell_type": "code",
   "execution_count": 2,
   "metadata": {},
   "outputs": [
    {
     "data": {
      "text/plain": [
       "750"
      ]
     },
     "execution_count": 2,
     "metadata": {},
     "output_type": "execute_result"
    }
   ],
   "source": [
    "75000//100"
   ]
  },
  {
   "cell_type": "code",
   "execution_count": null,
   "metadata": {},
   "outputs": [],
   "source": []
  }
 ],
 "metadata": {
  "kernelspec": {
   "display_name": "Python 3",
   "language": "python",
   "name": "python3"
  },
  "language_info": {
   "codemirror_mode": {
    "name": "ipython",
    "version": 3
   },
   "file_extension": ".py",
   "mimetype": "text/x-python",
   "name": "python",
   "nbconvert_exporter": "python",
   "pygments_lexer": "ipython3",
   "version": "3.8.5"
  }
 },
 "nbformat": 4,
 "nbformat_minor": 4
}
